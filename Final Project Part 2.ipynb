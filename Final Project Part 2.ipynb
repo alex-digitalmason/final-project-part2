{
 "cells": [
  {
   "cell_type": "code",
   "execution_count": 1,
   "metadata": {},
   "outputs": [],
   "source": [
    "from pathlib import Path\n",
    "import pandas as pd\n",
    "import numpy as np\n",
    "import matplotlib.pyplot as plt"
   ]
  },
  {
   "cell_type": "markdown",
   "metadata": {},
   "source": [
    "# Problem Statement:"
   ]
  },
  {
   "cell_type": "markdown",
   "metadata": {},
   "source": [
    "Does the category that the project and challenge are launched in affect engagement? In effect: do certain categories garner more attention and engagement than others?"
   ]
  },
  {
   "cell_type": "markdown",
   "metadata": {},
   "source": [
    "## Import datasets + check values\n",
    "import the datasets and check shape, null values and data types"
   ]
  },
  {
   "cell_type": "code",
   "execution_count": 2,
   "metadata": {},
   "outputs": [],
   "source": [
    "#import published content csv\n",
    "content_path = './assets/datasets/content_published_scrubbed.csv'\n",
    "pub_content = pd.read_csv(content_path)"
   ]
  },
  {
   "cell_type": "code",
   "execution_count": 3,
   "metadata": {},
   "outputs": [
    {
     "data": {
      "text/plain": [
       "(30325, 5)"
      ]
     },
     "execution_count": 3,
     "metadata": {},
     "output_type": "execute_result"
    }
   ],
   "source": [
    "pub_content.shape"
   ]
  },
  {
   "cell_type": "code",
   "execution_count": 4,
   "metadata": {},
   "outputs": [
    {
     "data": {
      "text/plain": [
       "action                      object\n",
       "content_type_name           object\n",
       "parent_content_type_name    object\n",
       "project_id                   int64\n",
       "user_id                      int64\n",
       "dtype: object"
      ]
     },
     "execution_count": 4,
     "metadata": {},
     "output_type": "execute_result"
    }
   ],
   "source": [
    "pub_content.dtypes"
   ]
  },
  {
   "cell_type": "code",
   "execution_count": 5,
   "metadata": {},
   "outputs": [],
   "source": [
    "#import watch csv\n",
    "watch_path = './assets/datasets/watch_scrubbed.csv'\n",
    "watches = pd.read_csv(watch_path)"
   ]
  },
  {
   "cell_type": "code",
   "execution_count": 6,
   "metadata": {},
   "outputs": [
    {
     "data": {
      "text/plain": [
       "(6004, 5)"
      ]
     },
     "execution_count": 6,
     "metadata": {},
     "output_type": "execute_result"
    }
   ],
   "source": [
    "watches.shape"
   ]
  },
  {
   "cell_type": "code",
   "execution_count": 7,
   "metadata": {},
   "outputs": [
    {
     "data": {
      "text/plain": [
       "watch                        0\n",
       "content_type_name            0\n",
       "parent_content_type_name     0\n",
       "project_id                  12\n",
       "user_id                      0\n",
       "dtype: int64"
      ]
     },
     "execution_count": 7,
     "metadata": {},
     "output_type": "execute_result"
    }
   ],
   "source": [
    "watches.isnull().sum()"
   ]
  },
  {
   "cell_type": "code",
   "execution_count": 8,
   "metadata": {},
   "outputs": [
    {
     "data": {
      "text/plain": [
       "(5992, 5)"
      ]
     },
     "execution_count": 8,
     "metadata": {},
     "output_type": "execute_result"
    }
   ],
   "source": [
    "watches.dropna(axis=0, inplace=True)\n",
    "watches.shape"
   ]
  },
  {
   "cell_type": "code",
   "execution_count": 9,
   "metadata": {},
   "outputs": [
    {
     "data": {
      "text/plain": [
       "watch                        object\n",
       "content_type_name            object\n",
       "parent_content_type_name     object\n",
       "project_id                  float64\n",
       "user_id                       int64\n",
       "dtype: object"
      ]
     },
     "execution_count": 9,
     "metadata": {},
     "output_type": "execute_result"
    }
   ],
   "source": [
    "watches.dtypes"
   ]
  },
  {
   "cell_type": "code",
   "execution_count": 10,
   "metadata": {},
   "outputs": [
    {
     "data": {
      "text/plain": [
       "watch                       object\n",
       "content_type_name           object\n",
       "parent_content_type_name    object\n",
       "project_id                   int64\n",
       "user_id                      int64\n",
       "dtype: object"
      ]
     },
     "execution_count": 10,
     "metadata": {},
     "output_type": "execute_result"
    }
   ],
   "source": [
    "watches['project_id'] = watches.project_id.astype('int64')\n",
    "watches.dtypes"
   ]
  },
  {
   "cell_type": "code",
   "execution_count": 11,
   "metadata": {},
   "outputs": [],
   "source": [
    "#import entry vote csv\n",
    "vote_path = './assets/datasets/entry_vote_scrubbed.csv'\n",
    "entry_votes = pd.read_csv(vote_path)"
   ]
  },
  {
   "cell_type": "code",
   "execution_count": 12,
   "metadata": {},
   "outputs": [
    {
     "data": {
      "text/plain": [
       "(37893, 5)"
      ]
     },
     "execution_count": 12,
     "metadata": {},
     "output_type": "execute_result"
    }
   ],
   "source": [
    "entry_votes.shape"
   ]
  },
  {
   "cell_type": "code",
   "execution_count": 13,
   "metadata": {},
   "outputs": [
    {
     "data": {
      "text/plain": [
       "vote                        0\n",
       "content_type_name           0\n",
       "project_id                  0\n",
       "parent_content_type_name    0\n",
       "user_id                     0\n",
       "dtype: int64"
      ]
     },
     "execution_count": 13,
     "metadata": {},
     "output_type": "execute_result"
    }
   ],
   "source": [
    "entry_votes.isnull().sum()"
   ]
  },
  {
   "cell_type": "code",
   "execution_count": 14,
   "metadata": {},
   "outputs": [
    {
     "data": {
      "text/plain": [
       "vote                        object\n",
       "content_type_name           object\n",
       "project_id                   int64\n",
       "parent_content_type_name    object\n",
       "user_id                      int64\n",
       "dtype: object"
      ]
     },
     "execution_count": 14,
     "metadata": {},
     "output_type": "execute_result"
    }
   ],
   "source": [
    "entry_votes.dtypes"
   ]
  },
  {
   "cell_type": "code",
   "execution_count": 15,
   "metadata": {},
   "outputs": [],
   "source": [
    "#import project csv\n",
    "project_path = './assets/datasets/projects_scrubbed.csv'\n",
    "projects = pd.read_csv(project_path)"
   ]
  },
  {
   "cell_type": "code",
   "execution_count": 16,
   "metadata": {},
   "outputs": [
    {
     "data": {
      "text/plain": [
       "(41, 10)"
      ]
     },
     "execution_count": 16,
     "metadata": {},
     "output_type": "execute_result"
    }
   ],
   "source": [
    "projects.shape"
   ]
  },
  {
   "cell_type": "code",
   "execution_count": 17,
   "metadata": {},
   "outputs": [
    {
     "data": {
      "text/plain": [
       "content_type_name           0\n",
       "parent_content_type_name    0\n",
       "post_count                  0\n",
       "topic_count                 0\n",
       "view_count                  0\n",
       "watch_count                 0\n",
       "participants                0\n",
       "title                       0\n",
       "project_id                  0\n",
       "categories                  0\n",
       "dtype: int64"
      ]
     },
     "execution_count": 17,
     "metadata": {},
     "output_type": "execute_result"
    }
   ],
   "source": [
    "projects.isnull().sum()"
   ]
  },
  {
   "cell_type": "code",
   "execution_count": 18,
   "metadata": {},
   "outputs": [
    {
     "data": {
      "text/plain": [
       "content_type_name           object\n",
       "parent_content_type_name    object\n",
       "post_count                   int64\n",
       "topic_count                  int64\n",
       "view_count                   int64\n",
       "watch_count                  int64\n",
       "participants                 int64\n",
       "title                       object\n",
       "project_id                   int64\n",
       "categories                  object\n",
       "dtype: object"
      ]
     },
     "execution_count": 18,
     "metadata": {},
     "output_type": "execute_result"
    }
   ],
   "source": [
    "projects.dtypes"
   ]
  },
  {
   "cell_type": "code",
   "execution_count": 19,
   "metadata": {},
   "outputs": [],
   "source": [
    "#import users csv\n",
    "users_path = './assets/datasets/users_scrubbed.csv'\n",
    "users = pd.read_csv(users_path)"
   ]
  },
  {
   "cell_type": "code",
   "execution_count": 20,
   "metadata": {},
   "outputs": [
    {
     "data": {
      "text/plain": [
       "(194152, 2)"
      ]
     },
     "execution_count": 20,
     "metadata": {},
     "output_type": "execute_result"
    }
   ],
   "source": [
    "users.shape"
   ]
  },
  {
   "cell_type": "code",
   "execution_count": 21,
   "metadata": {},
   "outputs": [
    {
     "data": {
      "text/plain": [
       "username    0\n",
       "user_id     0\n",
       "dtype: int64"
      ]
     },
     "execution_count": 21,
     "metadata": {},
     "output_type": "execute_result"
    }
   ],
   "source": [
    "users.isnull().sum()"
   ]
  },
  {
   "cell_type": "code",
   "execution_count": 22,
   "metadata": {},
   "outputs": [
    {
     "data": {
      "text/plain": [
       "username    object\n",
       "user_id      int64\n",
       "dtype: object"
      ]
     },
     "execution_count": 22,
     "metadata": {},
     "output_type": "execute_result"
    }
   ],
   "source": [
    "users.dtypes"
   ]
  },
  {
   "cell_type": "markdown",
   "metadata": {},
   "source": [
    "## Test merge on a sample\n",
    "Prior to merging the datasets I wanted to do a test merge on a sample of two to make sure that everything is looking and coming together like I wanted"
   ]
  },
  {
   "cell_type": "code",
   "execution_count": 23,
   "metadata": {},
   "outputs": [
    {
     "data": {
      "text/html": [
       "<div>\n",
       "<style scoped>\n",
       "    .dataframe tbody tr th:only-of-type {\n",
       "        vertical-align: middle;\n",
       "    }\n",
       "\n",
       "    .dataframe tbody tr th {\n",
       "        vertical-align: top;\n",
       "    }\n",
       "\n",
       "    .dataframe thead th {\n",
       "        text-align: right;\n",
       "    }\n",
       "</style>\n",
       "<table border=\"1\" class=\"dataframe\">\n",
       "  <thead>\n",
       "    <tr style=\"text-align: right;\">\n",
       "      <th></th>\n",
       "      <th>content_type_name</th>\n",
       "      <th>parent_content_type_name</th>\n",
       "      <th>post_count</th>\n",
       "      <th>topic_count</th>\n",
       "      <th>view_count</th>\n",
       "      <th>watch_count</th>\n",
       "      <th>participants</th>\n",
       "      <th>title</th>\n",
       "      <th>project_id</th>\n",
       "      <th>categories</th>\n",
       "    </tr>\n",
       "  </thead>\n",
       "  <tbody>\n",
       "    <tr>\n",
       "      <th>18</th>\n",
       "      <td>project</td>\n",
       "      <td>project</td>\n",
       "      <td>51</td>\n",
       "      <td>1</td>\n",
       "      <td>925</td>\n",
       "      <td>2054</td>\n",
       "      <td>2091</td>\n",
       "      <td>LA 2060: World Athletic Games</td>\n",
       "      <td>290</td>\n",
       "      <td>Adaptive Sports</td>\n",
       "    </tr>\n",
       "    <tr>\n",
       "      <th>13</th>\n",
       "      <td>project</td>\n",
       "      <td>project</td>\n",
       "      <td>206</td>\n",
       "      <td>4</td>\n",
       "      <td>2978</td>\n",
       "      <td>932</td>\n",
       "      <td>951</td>\n",
       "      <td>High Temperature Clamping</td>\n",
       "      <td>272</td>\n",
       "      <td>Infrastructure and Energy</td>\n",
       "    </tr>\n",
       "    <tr>\n",
       "      <th>39</th>\n",
       "      <td>project</td>\n",
       "      <td>project</td>\n",
       "      <td>2144</td>\n",
       "      <td>2</td>\n",
       "      <td>2798</td>\n",
       "      <td>4138</td>\n",
       "      <td>4247</td>\n",
       "      <td>Unmanned Cargo System</td>\n",
       "      <td>311</td>\n",
       "      <td>Ground Mobility</td>\n",
       "    </tr>\n",
       "    <tr>\n",
       "      <th>16</th>\n",
       "      <td>project</td>\n",
       "      <td>project</td>\n",
       "      <td>235</td>\n",
       "      <td>7</td>\n",
       "      <td>2559</td>\n",
       "      <td>2305</td>\n",
       "      <td>2355</td>\n",
       "      <td>IoT Wallet</td>\n",
       "      <td>280</td>\n",
       "      <td>Consumer Products</td>\n",
       "    </tr>\n",
       "    <tr>\n",
       "      <th>9</th>\n",
       "      <td>project</td>\n",
       "      <td>project</td>\n",
       "      <td>753</td>\n",
       "      <td>5</td>\n",
       "      <td>2474</td>\n",
       "      <td>2562</td>\n",
       "      <td>2632</td>\n",
       "      <td>Explore with Us: The Future of Mobility</td>\n",
       "      <td>322</td>\n",
       "      <td>Air Mobility</td>\n",
       "    </tr>\n",
       "    <tr>\n",
       "      <th>11</th>\n",
       "      <td>project</td>\n",
       "      <td>project</td>\n",
       "      <td>134</td>\n",
       "      <td>21</td>\n",
       "      <td>2462</td>\n",
       "      <td>9743</td>\n",
       "      <td>9836</td>\n",
       "      <td>Farming Mars</td>\n",
       "      <td>276</td>\n",
       "      <td>Mars</td>\n",
       "    </tr>\n",
       "    <tr>\n",
       "      <th>24</th>\n",
       "      <td>project</td>\n",
       "      <td>project</td>\n",
       "      <td>871</td>\n",
       "      <td>3</td>\n",
       "      <td>2049</td>\n",
       "      <td>2780</td>\n",
       "      <td>2853</td>\n",
       "      <td>Mass Mobility</td>\n",
       "      <td>310</td>\n",
       "      <td>Adaptive Sports</td>\n",
       "    </tr>\n",
       "    <tr>\n",
       "      <th>29</th>\n",
       "      <td>project</td>\n",
       "      <td>project</td>\n",
       "      <td>198</td>\n",
       "      <td>5</td>\n",
       "      <td>4417</td>\n",
       "      <td>240</td>\n",
       "      <td>253</td>\n",
       "      <td>Position Sensor for Inspection Probes</td>\n",
       "      <td>267</td>\n",
       "      <td>Industrial Inspection and Monitoring</td>\n",
       "    </tr>\n",
       "    <tr>\n",
       "      <th>35</th>\n",
       "      <td>project</td>\n",
       "      <td>project</td>\n",
       "      <td>82</td>\n",
       "      <td>18</td>\n",
       "      <td>3964</td>\n",
       "      <td>12602</td>\n",
       "      <td>12746</td>\n",
       "      <td>Technicolor VR Experience</td>\n",
       "      <td>278</td>\n",
       "      <td>Mars</td>\n",
       "    </tr>\n",
       "    <tr>\n",
       "      <th>12</th>\n",
       "      <td>project</td>\n",
       "      <td>project</td>\n",
       "      <td>206</td>\n",
       "      <td>4</td>\n",
       "      <td>2978</td>\n",
       "      <td>932</td>\n",
       "      <td>951</td>\n",
       "      <td>High Temperature Clamping</td>\n",
       "      <td>272</td>\n",
       "      <td>Industrial Inspection and Monitoring</td>\n",
       "    </tr>\n",
       "  </tbody>\n",
       "</table>\n",
       "</div>"
      ],
      "text/plain": [
       "   content_type_name parent_content_type_name  post_count  topic_count  \\\n",
       "18           project                  project          51            1   \n",
       "13           project                  project         206            4   \n",
       "39           project                  project        2144            2   \n",
       "16           project                  project         235            7   \n",
       "9            project                  project         753            5   \n",
       "11           project                  project         134           21   \n",
       "24           project                  project         871            3   \n",
       "29           project                  project         198            5   \n",
       "35           project                  project          82           18   \n",
       "12           project                  project         206            4   \n",
       "\n",
       "    view_count  watch_count  participants  \\\n",
       "18         925         2054          2091   \n",
       "13        2978          932           951   \n",
       "39        2798         4138          4247   \n",
       "16        2559         2305          2355   \n",
       "9         2474         2562          2632   \n",
       "11        2462         9743          9836   \n",
       "24        2049         2780          2853   \n",
       "29        4417          240           253   \n",
       "35        3964        12602         12746   \n",
       "12        2978          932           951   \n",
       "\n",
       "                                      title  project_id  \\\n",
       "18            LA 2060: World Athletic Games         290   \n",
       "13                High Temperature Clamping         272   \n",
       "39                    Unmanned Cargo System         311   \n",
       "16                               IoT Wallet         280   \n",
       "9   Explore with Us: The Future of Mobility         322   \n",
       "11                             Farming Mars         276   \n",
       "24                            Mass Mobility         310   \n",
       "29    Position Sensor for Inspection Probes         267   \n",
       "35                Technicolor VR Experience         278   \n",
       "12                High Temperature Clamping         272   \n",
       "\n",
       "                              categories  \n",
       "18                       Adaptive Sports  \n",
       "13             Infrastructure and Energy  \n",
       "39                       Ground Mobility  \n",
       "16                     Consumer Products  \n",
       "9                           Air Mobility  \n",
       "11                                  Mars  \n",
       "24                       Adaptive Sports  \n",
       "29  Industrial Inspection and Monitoring  \n",
       "35                                  Mars  \n",
       "12  Industrial Inspection and Monitoring  "
      ]
     },
     "execution_count": 23,
     "metadata": {},
     "output_type": "execute_result"
    }
   ],
   "source": [
    "proj_sample = projects.sample(n=10, axis=0)\n",
    "proj_sample"
   ]
  },
  {
   "cell_type": "code",
   "execution_count": 24,
   "metadata": {},
   "outputs": [
    {
     "data": {
      "text/html": [
       "<div>\n",
       "<style scoped>\n",
       "    .dataframe tbody tr th:only-of-type {\n",
       "        vertical-align: middle;\n",
       "    }\n",
       "\n",
       "    .dataframe tbody tr th {\n",
       "        vertical-align: top;\n",
       "    }\n",
       "\n",
       "    .dataframe thead th {\n",
       "        text-align: right;\n",
       "    }\n",
       "</style>\n",
       "<table border=\"1\" class=\"dataframe\">\n",
       "  <thead>\n",
       "    <tr style=\"text-align: right;\">\n",
       "      <th></th>\n",
       "      <th>watch</th>\n",
       "      <th>content_type_name</th>\n",
       "      <th>parent_content_type_name</th>\n",
       "      <th>project_id</th>\n",
       "      <th>user_id</th>\n",
       "    </tr>\n",
       "  </thead>\n",
       "  <tbody>\n",
       "    <tr>\n",
       "      <th>4756</th>\n",
       "      <td>yes</td>\n",
       "      <td>project</td>\n",
       "      <td>project</td>\n",
       "      <td>309</td>\n",
       "      <td>131797</td>\n",
       "    </tr>\n",
       "    <tr>\n",
       "      <th>3561</th>\n",
       "      <td>yes</td>\n",
       "      <td>project</td>\n",
       "      <td>project</td>\n",
       "      <td>311</td>\n",
       "      <td>169321</td>\n",
       "    </tr>\n",
       "    <tr>\n",
       "      <th>1634</th>\n",
       "      <td>yes</td>\n",
       "      <td>project</td>\n",
       "      <td>project</td>\n",
       "      <td>284</td>\n",
       "      <td>126233</td>\n",
       "    </tr>\n",
       "    <tr>\n",
       "      <th>3426</th>\n",
       "      <td>yes</td>\n",
       "      <td>project</td>\n",
       "      <td>project</td>\n",
       "      <td>276</td>\n",
       "      <td>116485</td>\n",
       "    </tr>\n",
       "    <tr>\n",
       "      <th>1698</th>\n",
       "      <td>yes</td>\n",
       "      <td>project</td>\n",
       "      <td>project</td>\n",
       "      <td>271</td>\n",
       "      <td>127172</td>\n",
       "    </tr>\n",
       "    <tr>\n",
       "      <th>970</th>\n",
       "      <td>yes</td>\n",
       "      <td>project</td>\n",
       "      <td>project</td>\n",
       "      <td>279</td>\n",
       "      <td>112173</td>\n",
       "    </tr>\n",
       "    <tr>\n",
       "      <th>3134</th>\n",
       "      <td>yes</td>\n",
       "      <td>project</td>\n",
       "      <td>project</td>\n",
       "      <td>280</td>\n",
       "      <td>162995</td>\n",
       "    </tr>\n",
       "    <tr>\n",
       "      <th>1985</th>\n",
       "      <td>yes</td>\n",
       "      <td>project</td>\n",
       "      <td>project</td>\n",
       "      <td>268</td>\n",
       "      <td>131891</td>\n",
       "    </tr>\n",
       "    <tr>\n",
       "      <th>4609</th>\n",
       "      <td>yes</td>\n",
       "      <td>project</td>\n",
       "      <td>project</td>\n",
       "      <td>304</td>\n",
       "      <td>186306</td>\n",
       "    </tr>\n",
       "    <tr>\n",
       "      <th>5665</th>\n",
       "      <td>yes</td>\n",
       "      <td>project</td>\n",
       "      <td>project</td>\n",
       "      <td>275</td>\n",
       "      <td>130743</td>\n",
       "    </tr>\n",
       "  </tbody>\n",
       "</table>\n",
       "</div>"
      ],
      "text/plain": [
       "     watch content_type_name parent_content_type_name  project_id  user_id\n",
       "4756   yes           project                  project         309   131797\n",
       "3561   yes           project                  project         311   169321\n",
       "1634   yes           project                  project         284   126233\n",
       "3426   yes           project                  project         276   116485\n",
       "1698   yes           project                  project         271   127172\n",
       "970    yes           project                  project         279   112173\n",
       "3134   yes           project                  project         280   162995\n",
       "1985   yes           project                  project         268   131891\n",
       "4609   yes           project                  project         304   186306\n",
       "5665   yes           project                  project         275   130743"
      ]
     },
     "execution_count": 24,
     "metadata": {},
     "output_type": "execute_result"
    }
   ],
   "source": [
    "watch_sample = watches.sample(n=10, axis=0)\n",
    "watch_sample"
   ]
  },
  {
   "cell_type": "code",
   "execution_count": 25,
   "metadata": {},
   "outputs": [],
   "source": [
    "watch_sample['project_id'] = watch_sample.project_id.astype('int64', inplace=True)"
   ]
  },
  {
   "cell_type": "code",
   "execution_count": 26,
   "metadata": {},
   "outputs": [],
   "source": [
    "merged = proj_sample.merge(watch_sample, how='outer', on='project_id')"
   ]
  },
  {
   "cell_type": "code",
   "execution_count": 27,
   "metadata": {},
   "outputs": [
    {
     "data": {
      "text/html": [
       "<div>\n",
       "<style scoped>\n",
       "    .dataframe tbody tr th:only-of-type {\n",
       "        vertical-align: middle;\n",
       "    }\n",
       "\n",
       "    .dataframe tbody tr th {\n",
       "        vertical-align: top;\n",
       "    }\n",
       "\n",
       "    .dataframe thead th {\n",
       "        text-align: right;\n",
       "    }\n",
       "</style>\n",
       "<table border=\"1\" class=\"dataframe\">\n",
       "  <thead>\n",
       "    <tr style=\"text-align: right;\">\n",
       "      <th></th>\n",
       "      <th>content_type_name_x</th>\n",
       "      <th>parent_content_type_name_x</th>\n",
       "      <th>post_count</th>\n",
       "      <th>topic_count</th>\n",
       "      <th>view_count</th>\n",
       "      <th>watch_count</th>\n",
       "      <th>participants</th>\n",
       "      <th>title</th>\n",
       "      <th>project_id</th>\n",
       "      <th>categories</th>\n",
       "      <th>watch</th>\n",
       "      <th>content_type_name_y</th>\n",
       "      <th>parent_content_type_name_y</th>\n",
       "      <th>user_id</th>\n",
       "    </tr>\n",
       "  </thead>\n",
       "  <tbody>\n",
       "    <tr>\n",
       "      <th>0</th>\n",
       "      <td>project</td>\n",
       "      <td>project</td>\n",
       "      <td>51.0</td>\n",
       "      <td>1.0</td>\n",
       "      <td>925.0</td>\n",
       "      <td>2054.0</td>\n",
       "      <td>2091.0</td>\n",
       "      <td>LA 2060: World Athletic Games</td>\n",
       "      <td>290</td>\n",
       "      <td>Adaptive Sports</td>\n",
       "      <td>NaN</td>\n",
       "      <td>NaN</td>\n",
       "      <td>NaN</td>\n",
       "      <td>NaN</td>\n",
       "    </tr>\n",
       "    <tr>\n",
       "      <th>1</th>\n",
       "      <td>project</td>\n",
       "      <td>project</td>\n",
       "      <td>206.0</td>\n",
       "      <td>4.0</td>\n",
       "      <td>2978.0</td>\n",
       "      <td>932.0</td>\n",
       "      <td>951.0</td>\n",
       "      <td>High Temperature Clamping</td>\n",
       "      <td>272</td>\n",
       "      <td>Infrastructure and Energy</td>\n",
       "      <td>NaN</td>\n",
       "      <td>NaN</td>\n",
       "      <td>NaN</td>\n",
       "      <td>NaN</td>\n",
       "    </tr>\n",
       "    <tr>\n",
       "      <th>2</th>\n",
       "      <td>project</td>\n",
       "      <td>project</td>\n",
       "      <td>206.0</td>\n",
       "      <td>4.0</td>\n",
       "      <td>2978.0</td>\n",
       "      <td>932.0</td>\n",
       "      <td>951.0</td>\n",
       "      <td>High Temperature Clamping</td>\n",
       "      <td>272</td>\n",
       "      <td>Industrial Inspection and Monitoring</td>\n",
       "      <td>NaN</td>\n",
       "      <td>NaN</td>\n",
       "      <td>NaN</td>\n",
       "      <td>NaN</td>\n",
       "    </tr>\n",
       "    <tr>\n",
       "      <th>3</th>\n",
       "      <td>project</td>\n",
       "      <td>project</td>\n",
       "      <td>2144.0</td>\n",
       "      <td>2.0</td>\n",
       "      <td>2798.0</td>\n",
       "      <td>4138.0</td>\n",
       "      <td>4247.0</td>\n",
       "      <td>Unmanned Cargo System</td>\n",
       "      <td>311</td>\n",
       "      <td>Ground Mobility</td>\n",
       "      <td>yes</td>\n",
       "      <td>project</td>\n",
       "      <td>project</td>\n",
       "      <td>169321.0</td>\n",
       "    </tr>\n",
       "    <tr>\n",
       "      <th>4</th>\n",
       "      <td>project</td>\n",
       "      <td>project</td>\n",
       "      <td>235.0</td>\n",
       "      <td>7.0</td>\n",
       "      <td>2559.0</td>\n",
       "      <td>2305.0</td>\n",
       "      <td>2355.0</td>\n",
       "      <td>IoT Wallet</td>\n",
       "      <td>280</td>\n",
       "      <td>Consumer Products</td>\n",
       "      <td>yes</td>\n",
       "      <td>project</td>\n",
       "      <td>project</td>\n",
       "      <td>162995.0</td>\n",
       "    </tr>\n",
       "  </tbody>\n",
       "</table>\n",
       "</div>"
      ],
      "text/plain": [
       "  content_type_name_x parent_content_type_name_x  post_count  topic_count  \\\n",
       "0             project                    project        51.0          1.0   \n",
       "1             project                    project       206.0          4.0   \n",
       "2             project                    project       206.0          4.0   \n",
       "3             project                    project      2144.0          2.0   \n",
       "4             project                    project       235.0          7.0   \n",
       "\n",
       "   view_count  watch_count  participants                          title  \\\n",
       "0       925.0       2054.0        2091.0  LA 2060: World Athletic Games   \n",
       "1      2978.0        932.0         951.0      High Temperature Clamping   \n",
       "2      2978.0        932.0         951.0      High Temperature Clamping   \n",
       "3      2798.0       4138.0        4247.0          Unmanned Cargo System   \n",
       "4      2559.0       2305.0        2355.0                     IoT Wallet   \n",
       "\n",
       "   project_id                            categories watch content_type_name_y  \\\n",
       "0         290                       Adaptive Sports   NaN                 NaN   \n",
       "1         272             Infrastructure and Energy   NaN                 NaN   \n",
       "2         272  Industrial Inspection and Monitoring   NaN                 NaN   \n",
       "3         311                       Ground Mobility   yes             project   \n",
       "4         280                     Consumer Products   yes             project   \n",
       "\n",
       "  parent_content_type_name_y   user_id  \n",
       "0                        NaN       NaN  \n",
       "1                        NaN       NaN  \n",
       "2                        NaN       NaN  \n",
       "3                    project  169321.0  \n",
       "4                    project  162995.0  "
      ]
     },
     "execution_count": 27,
     "metadata": {},
     "output_type": "execute_result"
    }
   ],
   "source": [
    "merged.head()"
   ]
  },
  {
   "cell_type": "markdown",
   "metadata": {},
   "source": [
    "Many of the NaNs, particularly the ones in the user_id column will go away once the entire user set is in. the 'action' column on the other hand will need some clean up"
   ]
  },
  {
   "cell_type": "markdown",
   "metadata": {},
   "source": [
    "## Merge datasets together\n",
    "Having tried to merge all 5 datasets together and running into problems with how large the dataset becomes I decided to only concat projects, watches and pub_content together and then take a sample of the dataframe since it will have over a million rows. "
   ]
  },
  {
   "cell_type": "code",
   "execution_count": 28,
   "metadata": {},
   "outputs": [],
   "source": [
    "project_content = projects.merge(pub_content, how='inner', on='project_id')"
   ]
  },
  {
   "cell_type": "code",
   "execution_count": 29,
   "metadata": {},
   "outputs": [
    {
     "data": {
      "text/plain": [
       "content_type_name_x           0\n",
       "parent_content_type_name_x    0\n",
       "post_count                    0\n",
       "topic_count                   0\n",
       "view_count                    0\n",
       "watch_count                   0\n",
       "participants                  0\n",
       "title                         0\n",
       "project_id                    0\n",
       "categories                    0\n",
       "action                        0\n",
       "content_type_name_y           0\n",
       "parent_content_type_name_y    0\n",
       "user_id                       0\n",
       "dtype: int64"
      ]
     },
     "execution_count": 29,
     "metadata": {},
     "output_type": "execute_result"
    }
   ],
   "source": [
    "project_content.isnull().sum()"
   ]
  },
  {
   "cell_type": "code",
   "execution_count": 30,
   "metadata": {},
   "outputs": [
    {
     "data": {
      "text/plain": [
       "(34438, 14)"
      ]
     },
     "execution_count": 30,
     "metadata": {},
     "output_type": "execute_result"
    }
   ],
   "source": [
    "project_content.shape"
   ]
  },
  {
   "cell_type": "code",
   "execution_count": 31,
   "metadata": {},
   "outputs": [],
   "source": [
    "content = project_content.merge(watches, how='inner', on='project_id')"
   ]
  },
  {
   "cell_type": "code",
   "execution_count": 32,
   "metadata": {},
   "outputs": [
    {
     "data": {
      "text/plain": [
       "(16715686, 18)"
      ]
     },
     "execution_count": 32,
     "metadata": {},
     "output_type": "execute_result"
    }
   ],
   "source": [
    "content.shape"
   ]
  },
  {
   "cell_type": "code",
   "execution_count": 59,
   "metadata": {},
   "outputs": [
    {
     "data": {
      "text/plain": [
       "content_type_name_x           0\n",
       "parent_content_type_name_x    0\n",
       "post_count                    0\n",
       "topic_count                   0\n",
       "view_count                    0\n",
       "watch_count                   0\n",
       "participants                  0\n",
       "title                         0\n",
       "project_id                    0\n",
       "categories                    0\n",
       "action                        0\n",
       "content_type_name_y           0\n",
       "parent_content_type_name_y    0\n",
       "user_id_x                     0\n",
       "watch                         0\n",
       "content_type_name             0\n",
       "parent_content_type_name      0\n",
       "user_id_y                     0\n",
       "dtype: int64"
      ]
     },
     "execution_count": 59,
     "metadata": {},
     "output_type": "execute_result"
    }
   ],
   "source": [
    "content.isnull().sum()"
   ]
  },
  {
   "cell_type": "markdown",
   "metadata": {},
   "source": [
    "## Take a sample"
   ]
  },
  {
   "cell_type": "code",
   "execution_count": 34,
   "metadata": {},
   "outputs": [],
   "source": [
    "content_sample = content.sample(frac=0.01)"
   ]
  },
  {
   "cell_type": "code",
   "execution_count": 35,
   "metadata": {},
   "outputs": [
    {
     "data": {
      "text/plain": [
       "(167157, 18)"
      ]
     },
     "execution_count": 35,
     "metadata": {},
     "output_type": "execute_result"
    }
   ],
   "source": [
    "content_sample.shape"
   ]
  },
  {
   "cell_type": "code",
   "execution_count": 36,
   "metadata": {},
   "outputs": [
    {
     "data": {
      "text/html": [
       "<div>\n",
       "<style scoped>\n",
       "    .dataframe tbody tr th:only-of-type {\n",
       "        vertical-align: middle;\n",
       "    }\n",
       "\n",
       "    .dataframe tbody tr th {\n",
       "        vertical-align: top;\n",
       "    }\n",
       "\n",
       "    .dataframe thead th {\n",
       "        text-align: right;\n",
       "    }\n",
       "</style>\n",
       "<table border=\"1\" class=\"dataframe\">\n",
       "  <thead>\n",
       "    <tr style=\"text-align: right;\">\n",
       "      <th></th>\n",
       "      <th>content_type_name_x</th>\n",
       "      <th>parent_content_type_name_x</th>\n",
       "      <th>post_count</th>\n",
       "      <th>topic_count</th>\n",
       "      <th>view_count</th>\n",
       "      <th>watch_count</th>\n",
       "      <th>participants</th>\n",
       "      <th>title</th>\n",
       "      <th>project_id</th>\n",
       "      <th>categories</th>\n",
       "      <th>action</th>\n",
       "      <th>content_type_name_y</th>\n",
       "      <th>parent_content_type_name_y</th>\n",
       "      <th>user_id_x</th>\n",
       "      <th>watch</th>\n",
       "      <th>content_type_name</th>\n",
       "      <th>parent_content_type_name</th>\n",
       "      <th>user_id_y</th>\n",
       "    </tr>\n",
       "  </thead>\n",
       "  <tbody>\n",
       "    <tr>\n",
       "      <th>8014263</th>\n",
       "      <td>project</td>\n",
       "      <td>project</td>\n",
       "      <td>7285</td>\n",
       "      <td>53</td>\n",
       "      <td>16973</td>\n",
       "      <td>17116</td>\n",
       "      <td>17379</td>\n",
       "      <td>The Urbanization of Mars</td>\n",
       "      <td>279</td>\n",
       "      <td>Mars</td>\n",
       "      <td>content_published</td>\n",
       "      <td>post</td>\n",
       "      <td>entry</td>\n",
       "      <td>134692</td>\n",
       "      <td>yes</td>\n",
       "      <td>project</td>\n",
       "      <td>project</td>\n",
       "      <td>132628</td>\n",
       "    </tr>\n",
       "    <tr>\n",
       "      <th>5776948</th>\n",
       "      <td>project</td>\n",
       "      <td>project</td>\n",
       "      <td>7285</td>\n",
       "      <td>53</td>\n",
       "      <td>16973</td>\n",
       "      <td>17116</td>\n",
       "      <td>17379</td>\n",
       "      <td>The Urbanization of Mars</td>\n",
       "      <td>279</td>\n",
       "      <td>Mars</td>\n",
       "      <td>content_published</td>\n",
       "      <td>post</td>\n",
       "      <td>entry</td>\n",
       "      <td>146767</td>\n",
       "      <td>yes</td>\n",
       "      <td>project</td>\n",
       "      <td>project</td>\n",
       "      <td>191938</td>\n",
       "    </tr>\n",
       "    <tr>\n",
       "      <th>11219225</th>\n",
       "      <td>project</td>\n",
       "      <td>project</td>\n",
       "      <td>7285</td>\n",
       "      <td>53</td>\n",
       "      <td>16973</td>\n",
       "      <td>17116</td>\n",
       "      <td>17379</td>\n",
       "      <td>The Urbanization of Mars</td>\n",
       "      <td>279</td>\n",
       "      <td>Mars</td>\n",
       "      <td>content_published</td>\n",
       "      <td>post</td>\n",
       "      <td>entry</td>\n",
       "      <td>191650</td>\n",
       "      <td>yes</td>\n",
       "      <td>project</td>\n",
       "      <td>project</td>\n",
       "      <td>154686</td>\n",
       "    </tr>\n",
       "    <tr>\n",
       "      <th>3617170</th>\n",
       "      <td>project</td>\n",
       "      <td>project</td>\n",
       "      <td>7285</td>\n",
       "      <td>53</td>\n",
       "      <td>16973</td>\n",
       "      <td>17116</td>\n",
       "      <td>17379</td>\n",
       "      <td>The Urbanization of Mars</td>\n",
       "      <td>279</td>\n",
       "      <td>Mars</td>\n",
       "      <td>content_published</td>\n",
       "      <td>entry</td>\n",
       "      <td>challenge</td>\n",
       "      <td>136466</td>\n",
       "      <td>yes</td>\n",
       "      <td>project</td>\n",
       "      <td>project</td>\n",
       "      <td>175315</td>\n",
       "    </tr>\n",
       "    <tr>\n",
       "      <th>14095165</th>\n",
       "      <td>project</td>\n",
       "      <td>project</td>\n",
       "      <td>7285</td>\n",
       "      <td>53</td>\n",
       "      <td>16973</td>\n",
       "      <td>17116</td>\n",
       "      <td>17379</td>\n",
       "      <td>The Urbanization of Mars</td>\n",
       "      <td>279</td>\n",
       "      <td>Mars</td>\n",
       "      <td>content_published</td>\n",
       "      <td>post</td>\n",
       "      <td>topic</td>\n",
       "      <td>64204</td>\n",
       "      <td>yes</td>\n",
       "      <td>project</td>\n",
       "      <td>project</td>\n",
       "      <td>178925</td>\n",
       "    </tr>\n",
       "  </tbody>\n",
       "</table>\n",
       "</div>"
      ],
      "text/plain": [
       "         content_type_name_x parent_content_type_name_x  post_count  \\\n",
       "8014263              project                    project        7285   \n",
       "5776948              project                    project        7285   \n",
       "11219225             project                    project        7285   \n",
       "3617170              project                    project        7285   \n",
       "14095165             project                    project        7285   \n",
       "\n",
       "          topic_count  view_count  watch_count  participants  \\\n",
       "8014263            53       16973        17116         17379   \n",
       "5776948            53       16973        17116         17379   \n",
       "11219225           53       16973        17116         17379   \n",
       "3617170            53       16973        17116         17379   \n",
       "14095165           53       16973        17116         17379   \n",
       "\n",
       "                             title  project_id categories             action  \\\n",
       "8014263   The Urbanization of Mars         279       Mars  content_published   \n",
       "5776948   The Urbanization of Mars         279       Mars  content_published   \n",
       "11219225  The Urbanization of Mars         279       Mars  content_published   \n",
       "3617170   The Urbanization of Mars         279       Mars  content_published   \n",
       "14095165  The Urbanization of Mars         279       Mars  content_published   \n",
       "\n",
       "         content_type_name_y parent_content_type_name_y  user_id_x watch  \\\n",
       "8014263                 post                      entry     134692   yes   \n",
       "5776948                 post                      entry     146767   yes   \n",
       "11219225                post                      entry     191650   yes   \n",
       "3617170                entry                  challenge     136466   yes   \n",
       "14095165                post                      topic      64204   yes   \n",
       "\n",
       "         content_type_name parent_content_type_name  user_id_y  \n",
       "8014263            project                  project     132628  \n",
       "5776948            project                  project     191938  \n",
       "11219225           project                  project     154686  \n",
       "3617170            project                  project     175315  \n",
       "14095165           project                  project     178925  "
      ]
     },
     "execution_count": 36,
     "metadata": {},
     "output_type": "execute_result"
    }
   ],
   "source": [
    "content_sample.head()"
   ]
  },
  {
   "cell_type": "markdown",
   "metadata": {},
   "source": [
    "## Column clean up\n",
    "Review the columns, drop the uneeded duplicates and rename columns as neeeded"
   ]
  },
  {
   "cell_type": "code",
   "execution_count": 37,
   "metadata": {},
   "outputs": [
    {
     "data": {
      "text/plain": [
       "1"
      ]
     },
     "execution_count": 37,
     "metadata": {},
     "output_type": "execute_result"
    }
   ],
   "source": [
    "content_sample.loc[:,'content_type_name_x'].nunique()"
   ]
  },
  {
   "cell_type": "code",
   "execution_count": 38,
   "metadata": {},
   "outputs": [
    {
     "data": {
      "text/plain": [
       "1"
      ]
     },
     "execution_count": 38,
     "metadata": {},
     "output_type": "execute_result"
    }
   ],
   "source": [
    "content_sample.loc[:,'parent_content_type_name_x'].nunique()"
   ]
  },
  {
   "cell_type": "code",
   "execution_count": 39,
   "metadata": {},
   "outputs": [
    {
     "data": {
      "text/plain": [
       "10"
      ]
     },
     "execution_count": 39,
     "metadata": {},
     "output_type": "execute_result"
    }
   ],
   "source": [
    "content_sample.loc[:,'categories'].nunique()"
   ]
  },
  {
   "cell_type": "code",
   "execution_count": 40,
   "metadata": {},
   "outputs": [
    {
     "data": {
      "text/plain": [
       "5"
      ]
     },
     "execution_count": 40,
     "metadata": {},
     "output_type": "execute_result"
    }
   ],
   "source": [
    "content_sample.loc[:,'parent_content_type_name_y'].nunique()"
   ]
  },
  {
   "cell_type": "code",
   "execution_count": 41,
   "metadata": {},
   "outputs": [
    {
     "data": {
      "text/plain": [
       "array(['entry', 'challenge', 'topic', 'idea', 'brainstorm'], dtype=object)"
      ]
     },
     "execution_count": 41,
     "metadata": {},
     "output_type": "execute_result"
    }
   ],
   "source": [
    "content_sample.loc[:,'parent_content_type_name_y'].unique()"
   ]
  },
  {
   "cell_type": "code",
   "execution_count": 42,
   "metadata": {},
   "outputs": [
    {
     "data": {
      "text/plain": [
       "1"
      ]
     },
     "execution_count": 42,
     "metadata": {},
     "output_type": "execute_result"
    }
   ],
   "source": [
    "content_sample.loc[:,'parent_content_type_name'].nunique()"
   ]
  },
  {
   "cell_type": "code",
   "execution_count": 43,
   "metadata": {},
   "outputs": [
    {
     "data": {
      "text/plain": [
       "1"
      ]
     },
     "execution_count": 43,
     "metadata": {},
     "output_type": "execute_result"
    }
   ],
   "source": [
    "content_sample.loc[:,'content_type_name'].nunique()"
   ]
  },
  {
   "cell_type": "code",
   "execution_count": 44,
   "metadata": {},
   "outputs": [
    {
     "data": {
      "text/plain": [
       "2916"
      ]
     },
     "execution_count": 44,
     "metadata": {},
     "output_type": "execute_result"
    }
   ],
   "source": [
    "content_sample.loc[:,'user_id_x'].nunique()"
   ]
  },
  {
   "cell_type": "code",
   "execution_count": 45,
   "metadata": {},
   "outputs": [
    {
     "data": {
      "text/plain": [
       "3478"
      ]
     },
     "execution_count": 45,
     "metadata": {},
     "output_type": "execute_result"
    }
   ],
   "source": [
    "content_sample.loc[:,'user_id_y'].nunique()"
   ]
  },
  {
   "cell_type": "code",
   "execution_count": 46,
   "metadata": {},
   "outputs": [],
   "source": [
    "content_sample.drop(['content_type_name_x', 'parent_content_type_name_x', 'parent_content_type_name', 'content_type_name', 'user_id_x'], axis=1, inplace=True)"
   ]
  },
  {
   "cell_type": "code",
   "execution_count": 47,
   "metadata": {},
   "outputs": [
    {
     "data": {
      "text/html": [
       "<div>\n",
       "<style scoped>\n",
       "    .dataframe tbody tr th:only-of-type {\n",
       "        vertical-align: middle;\n",
       "    }\n",
       "\n",
       "    .dataframe tbody tr th {\n",
       "        vertical-align: top;\n",
       "    }\n",
       "\n",
       "    .dataframe thead th {\n",
       "        text-align: right;\n",
       "    }\n",
       "</style>\n",
       "<table border=\"1\" class=\"dataframe\">\n",
       "  <thead>\n",
       "    <tr style=\"text-align: right;\">\n",
       "      <th></th>\n",
       "      <th>post_count</th>\n",
       "      <th>topic_count</th>\n",
       "      <th>view_count</th>\n",
       "      <th>watch_count</th>\n",
       "      <th>participants</th>\n",
       "      <th>title</th>\n",
       "      <th>project_id</th>\n",
       "      <th>categories</th>\n",
       "      <th>action</th>\n",
       "      <th>content_type_name_y</th>\n",
       "      <th>parent_content_type_name_y</th>\n",
       "      <th>watch</th>\n",
       "      <th>user_id_y</th>\n",
       "    </tr>\n",
       "  </thead>\n",
       "  <tbody>\n",
       "    <tr>\n",
       "      <th>8014263</th>\n",
       "      <td>7285</td>\n",
       "      <td>53</td>\n",
       "      <td>16973</td>\n",
       "      <td>17116</td>\n",
       "      <td>17379</td>\n",
       "      <td>The Urbanization of Mars</td>\n",
       "      <td>279</td>\n",
       "      <td>Mars</td>\n",
       "      <td>content_published</td>\n",
       "      <td>post</td>\n",
       "      <td>entry</td>\n",
       "      <td>yes</td>\n",
       "      <td>132628</td>\n",
       "    </tr>\n",
       "    <tr>\n",
       "      <th>5776948</th>\n",
       "      <td>7285</td>\n",
       "      <td>53</td>\n",
       "      <td>16973</td>\n",
       "      <td>17116</td>\n",
       "      <td>17379</td>\n",
       "      <td>The Urbanization of Mars</td>\n",
       "      <td>279</td>\n",
       "      <td>Mars</td>\n",
       "      <td>content_published</td>\n",
       "      <td>post</td>\n",
       "      <td>entry</td>\n",
       "      <td>yes</td>\n",
       "      <td>191938</td>\n",
       "    </tr>\n",
       "    <tr>\n",
       "      <th>11219225</th>\n",
       "      <td>7285</td>\n",
       "      <td>53</td>\n",
       "      <td>16973</td>\n",
       "      <td>17116</td>\n",
       "      <td>17379</td>\n",
       "      <td>The Urbanization of Mars</td>\n",
       "      <td>279</td>\n",
       "      <td>Mars</td>\n",
       "      <td>content_published</td>\n",
       "      <td>post</td>\n",
       "      <td>entry</td>\n",
       "      <td>yes</td>\n",
       "      <td>154686</td>\n",
       "    </tr>\n",
       "    <tr>\n",
       "      <th>3617170</th>\n",
       "      <td>7285</td>\n",
       "      <td>53</td>\n",
       "      <td>16973</td>\n",
       "      <td>17116</td>\n",
       "      <td>17379</td>\n",
       "      <td>The Urbanization of Mars</td>\n",
       "      <td>279</td>\n",
       "      <td>Mars</td>\n",
       "      <td>content_published</td>\n",
       "      <td>entry</td>\n",
       "      <td>challenge</td>\n",
       "      <td>yes</td>\n",
       "      <td>175315</td>\n",
       "    </tr>\n",
       "    <tr>\n",
       "      <th>14095165</th>\n",
       "      <td>7285</td>\n",
       "      <td>53</td>\n",
       "      <td>16973</td>\n",
       "      <td>17116</td>\n",
       "      <td>17379</td>\n",
       "      <td>The Urbanization of Mars</td>\n",
       "      <td>279</td>\n",
       "      <td>Mars</td>\n",
       "      <td>content_published</td>\n",
       "      <td>post</td>\n",
       "      <td>topic</td>\n",
       "      <td>yes</td>\n",
       "      <td>178925</td>\n",
       "    </tr>\n",
       "  </tbody>\n",
       "</table>\n",
       "</div>"
      ],
      "text/plain": [
       "          post_count  topic_count  view_count  watch_count  participants  \\\n",
       "8014263         7285           53       16973        17116         17379   \n",
       "5776948         7285           53       16973        17116         17379   \n",
       "11219225        7285           53       16973        17116         17379   \n",
       "3617170         7285           53       16973        17116         17379   \n",
       "14095165        7285           53       16973        17116         17379   \n",
       "\n",
       "                             title  project_id categories             action  \\\n",
       "8014263   The Urbanization of Mars         279       Mars  content_published   \n",
       "5776948   The Urbanization of Mars         279       Mars  content_published   \n",
       "11219225  The Urbanization of Mars         279       Mars  content_published   \n",
       "3617170   The Urbanization of Mars         279       Mars  content_published   \n",
       "14095165  The Urbanization of Mars         279       Mars  content_published   \n",
       "\n",
       "         content_type_name_y parent_content_type_name_y watch  user_id_y  \n",
       "8014263                 post                      entry   yes     132628  \n",
       "5776948                 post                      entry   yes     191938  \n",
       "11219225                post                      entry   yes     154686  \n",
       "3617170                entry                  challenge   yes     175315  \n",
       "14095165                post                      topic   yes     178925  "
      ]
     },
     "execution_count": 47,
     "metadata": {},
     "output_type": "execute_result"
    }
   ],
   "source": [
    "content_sample.head()"
   ]
  },
  {
   "cell_type": "code",
   "execution_count": 48,
   "metadata": {},
   "outputs": [],
   "source": [
    "content_sample.rename(columns={'content_type_name_y':'content_type_name', 'parent_content_type_name_y':'parent_content_type_name', 'user_id_y':'user_id'}, inplace=True)"
   ]
  },
  {
   "cell_type": "code",
   "execution_count": 49,
   "metadata": {},
   "outputs": [
    {
     "data": {
      "text/html": [
       "<div>\n",
       "<style scoped>\n",
       "    .dataframe tbody tr th:only-of-type {\n",
       "        vertical-align: middle;\n",
       "    }\n",
       "\n",
       "    .dataframe tbody tr th {\n",
       "        vertical-align: top;\n",
       "    }\n",
       "\n",
       "    .dataframe thead th {\n",
       "        text-align: right;\n",
       "    }\n",
       "</style>\n",
       "<table border=\"1\" class=\"dataframe\">\n",
       "  <thead>\n",
       "    <tr style=\"text-align: right;\">\n",
       "      <th></th>\n",
       "      <th>post_count</th>\n",
       "      <th>topic_count</th>\n",
       "      <th>view_count</th>\n",
       "      <th>watch_count</th>\n",
       "      <th>participants</th>\n",
       "      <th>title</th>\n",
       "      <th>project_id</th>\n",
       "      <th>categories</th>\n",
       "      <th>action</th>\n",
       "      <th>content_type_name</th>\n",
       "      <th>parent_content_type_name</th>\n",
       "      <th>watch</th>\n",
       "      <th>user_id</th>\n",
       "    </tr>\n",
       "  </thead>\n",
       "  <tbody>\n",
       "    <tr>\n",
       "      <th>8014263</th>\n",
       "      <td>7285</td>\n",
       "      <td>53</td>\n",
       "      <td>16973</td>\n",
       "      <td>17116</td>\n",
       "      <td>17379</td>\n",
       "      <td>The Urbanization of Mars</td>\n",
       "      <td>279</td>\n",
       "      <td>Mars</td>\n",
       "      <td>content_published</td>\n",
       "      <td>post</td>\n",
       "      <td>entry</td>\n",
       "      <td>yes</td>\n",
       "      <td>132628</td>\n",
       "    </tr>\n",
       "    <tr>\n",
       "      <th>5776948</th>\n",
       "      <td>7285</td>\n",
       "      <td>53</td>\n",
       "      <td>16973</td>\n",
       "      <td>17116</td>\n",
       "      <td>17379</td>\n",
       "      <td>The Urbanization of Mars</td>\n",
       "      <td>279</td>\n",
       "      <td>Mars</td>\n",
       "      <td>content_published</td>\n",
       "      <td>post</td>\n",
       "      <td>entry</td>\n",
       "      <td>yes</td>\n",
       "      <td>191938</td>\n",
       "    </tr>\n",
       "    <tr>\n",
       "      <th>11219225</th>\n",
       "      <td>7285</td>\n",
       "      <td>53</td>\n",
       "      <td>16973</td>\n",
       "      <td>17116</td>\n",
       "      <td>17379</td>\n",
       "      <td>The Urbanization of Mars</td>\n",
       "      <td>279</td>\n",
       "      <td>Mars</td>\n",
       "      <td>content_published</td>\n",
       "      <td>post</td>\n",
       "      <td>entry</td>\n",
       "      <td>yes</td>\n",
       "      <td>154686</td>\n",
       "    </tr>\n",
       "    <tr>\n",
       "      <th>3617170</th>\n",
       "      <td>7285</td>\n",
       "      <td>53</td>\n",
       "      <td>16973</td>\n",
       "      <td>17116</td>\n",
       "      <td>17379</td>\n",
       "      <td>The Urbanization of Mars</td>\n",
       "      <td>279</td>\n",
       "      <td>Mars</td>\n",
       "      <td>content_published</td>\n",
       "      <td>entry</td>\n",
       "      <td>challenge</td>\n",
       "      <td>yes</td>\n",
       "      <td>175315</td>\n",
       "    </tr>\n",
       "    <tr>\n",
       "      <th>14095165</th>\n",
       "      <td>7285</td>\n",
       "      <td>53</td>\n",
       "      <td>16973</td>\n",
       "      <td>17116</td>\n",
       "      <td>17379</td>\n",
       "      <td>The Urbanization of Mars</td>\n",
       "      <td>279</td>\n",
       "      <td>Mars</td>\n",
       "      <td>content_published</td>\n",
       "      <td>post</td>\n",
       "      <td>topic</td>\n",
       "      <td>yes</td>\n",
       "      <td>178925</td>\n",
       "    </tr>\n",
       "  </tbody>\n",
       "</table>\n",
       "</div>"
      ],
      "text/plain": [
       "          post_count  topic_count  view_count  watch_count  participants  \\\n",
       "8014263         7285           53       16973        17116         17379   \n",
       "5776948         7285           53       16973        17116         17379   \n",
       "11219225        7285           53       16973        17116         17379   \n",
       "3617170         7285           53       16973        17116         17379   \n",
       "14095165        7285           53       16973        17116         17379   \n",
       "\n",
       "                             title  project_id categories             action  \\\n",
       "8014263   The Urbanization of Mars         279       Mars  content_published   \n",
       "5776948   The Urbanization of Mars         279       Mars  content_published   \n",
       "11219225  The Urbanization of Mars         279       Mars  content_published   \n",
       "3617170   The Urbanization of Mars         279       Mars  content_published   \n",
       "14095165  The Urbanization of Mars         279       Mars  content_published   \n",
       "\n",
       "         content_type_name parent_content_type_name watch  user_id  \n",
       "8014263               post                    entry   yes   132628  \n",
       "5776948               post                    entry   yes   191938  \n",
       "11219225              post                    entry   yes   154686  \n",
       "3617170              entry                challenge   yes   175315  \n",
       "14095165              post                    topic   yes   178925  "
      ]
     },
     "execution_count": 49,
     "metadata": {},
     "output_type": "execute_result"
    }
   ],
   "source": [
    "content_sample.head()"
   ]
  },
  {
   "cell_type": "code",
   "execution_count": 50,
   "metadata": {},
   "outputs": [],
   "source": [
    "content_sample.rename(columns = {'post_count':'total_post_count', 'topic_count':'total_topic_count', 'view_count':'total_view_count','watch_count':'total_watch_count', 'participants':'total_participants'}, inplace=True)"
   ]
  },
  {
   "cell_type": "code",
   "execution_count": 51,
   "metadata": {},
   "outputs": [
    {
     "data": {
      "text/html": [
       "<div>\n",
       "<style scoped>\n",
       "    .dataframe tbody tr th:only-of-type {\n",
       "        vertical-align: middle;\n",
       "    }\n",
       "\n",
       "    .dataframe tbody tr th {\n",
       "        vertical-align: top;\n",
       "    }\n",
       "\n",
       "    .dataframe thead th {\n",
       "        text-align: right;\n",
       "    }\n",
       "</style>\n",
       "<table border=\"1\" class=\"dataframe\">\n",
       "  <thead>\n",
       "    <tr style=\"text-align: right;\">\n",
       "      <th></th>\n",
       "      <th>total_post_count</th>\n",
       "      <th>total_topic_count</th>\n",
       "      <th>total_view_count</th>\n",
       "      <th>total_watch_count</th>\n",
       "      <th>total_participants</th>\n",
       "      <th>title</th>\n",
       "      <th>project_id</th>\n",
       "      <th>categories</th>\n",
       "      <th>action</th>\n",
       "      <th>content_type_name</th>\n",
       "      <th>parent_content_type_name</th>\n",
       "      <th>watch</th>\n",
       "      <th>user_id</th>\n",
       "    </tr>\n",
       "  </thead>\n",
       "  <tbody>\n",
       "    <tr>\n",
       "      <th>8014263</th>\n",
       "      <td>7285</td>\n",
       "      <td>53</td>\n",
       "      <td>16973</td>\n",
       "      <td>17116</td>\n",
       "      <td>17379</td>\n",
       "      <td>The Urbanization of Mars</td>\n",
       "      <td>279</td>\n",
       "      <td>Mars</td>\n",
       "      <td>content_published</td>\n",
       "      <td>post</td>\n",
       "      <td>entry</td>\n",
       "      <td>yes</td>\n",
       "      <td>132628</td>\n",
       "    </tr>\n",
       "    <tr>\n",
       "      <th>5776948</th>\n",
       "      <td>7285</td>\n",
       "      <td>53</td>\n",
       "      <td>16973</td>\n",
       "      <td>17116</td>\n",
       "      <td>17379</td>\n",
       "      <td>The Urbanization of Mars</td>\n",
       "      <td>279</td>\n",
       "      <td>Mars</td>\n",
       "      <td>content_published</td>\n",
       "      <td>post</td>\n",
       "      <td>entry</td>\n",
       "      <td>yes</td>\n",
       "      <td>191938</td>\n",
       "    </tr>\n",
       "    <tr>\n",
       "      <th>11219225</th>\n",
       "      <td>7285</td>\n",
       "      <td>53</td>\n",
       "      <td>16973</td>\n",
       "      <td>17116</td>\n",
       "      <td>17379</td>\n",
       "      <td>The Urbanization of Mars</td>\n",
       "      <td>279</td>\n",
       "      <td>Mars</td>\n",
       "      <td>content_published</td>\n",
       "      <td>post</td>\n",
       "      <td>entry</td>\n",
       "      <td>yes</td>\n",
       "      <td>154686</td>\n",
       "    </tr>\n",
       "    <tr>\n",
       "      <th>3617170</th>\n",
       "      <td>7285</td>\n",
       "      <td>53</td>\n",
       "      <td>16973</td>\n",
       "      <td>17116</td>\n",
       "      <td>17379</td>\n",
       "      <td>The Urbanization of Mars</td>\n",
       "      <td>279</td>\n",
       "      <td>Mars</td>\n",
       "      <td>content_published</td>\n",
       "      <td>entry</td>\n",
       "      <td>challenge</td>\n",
       "      <td>yes</td>\n",
       "      <td>175315</td>\n",
       "    </tr>\n",
       "    <tr>\n",
       "      <th>14095165</th>\n",
       "      <td>7285</td>\n",
       "      <td>53</td>\n",
       "      <td>16973</td>\n",
       "      <td>17116</td>\n",
       "      <td>17379</td>\n",
       "      <td>The Urbanization of Mars</td>\n",
       "      <td>279</td>\n",
       "      <td>Mars</td>\n",
       "      <td>content_published</td>\n",
       "      <td>post</td>\n",
       "      <td>topic</td>\n",
       "      <td>yes</td>\n",
       "      <td>178925</td>\n",
       "    </tr>\n",
       "  </tbody>\n",
       "</table>\n",
       "</div>"
      ],
      "text/plain": [
       "          total_post_count  total_topic_count  total_view_count  \\\n",
       "8014263               7285                 53             16973   \n",
       "5776948               7285                 53             16973   \n",
       "11219225              7285                 53             16973   \n",
       "3617170               7285                 53             16973   \n",
       "14095165              7285                 53             16973   \n",
       "\n",
       "          total_watch_count  total_participants                     title  \\\n",
       "8014263               17116               17379  The Urbanization of Mars   \n",
       "5776948               17116               17379  The Urbanization of Mars   \n",
       "11219225              17116               17379  The Urbanization of Mars   \n",
       "3617170               17116               17379  The Urbanization of Mars   \n",
       "14095165              17116               17379  The Urbanization of Mars   \n",
       "\n",
       "          project_id categories             action content_type_name  \\\n",
       "8014263          279       Mars  content_published              post   \n",
       "5776948          279       Mars  content_published              post   \n",
       "11219225         279       Mars  content_published              post   \n",
       "3617170          279       Mars  content_published             entry   \n",
       "14095165         279       Mars  content_published              post   \n",
       "\n",
       "         parent_content_type_name watch  user_id  \n",
       "8014263                     entry   yes   132628  \n",
       "5776948                     entry   yes   191938  \n",
       "11219225                    entry   yes   154686  \n",
       "3617170                 challenge   yes   175315  \n",
       "14095165                    topic   yes   178925  "
      ]
     },
     "execution_count": 51,
     "metadata": {},
     "output_type": "execute_result"
    }
   ],
   "source": [
    "content_sample.head()"
   ]
  },
  {
   "cell_type": "code",
   "execution_count": 52,
   "metadata": {},
   "outputs": [],
   "source": [
    "project_content = content_sample"
   ]
  },
  {
   "cell_type": "code",
   "execution_count": 53,
   "metadata": {},
   "outputs": [
    {
     "data": {
      "text/html": [
       "<div>\n",
       "<style scoped>\n",
       "    .dataframe tbody tr th:only-of-type {\n",
       "        vertical-align: middle;\n",
       "    }\n",
       "\n",
       "    .dataframe tbody tr th {\n",
       "        vertical-align: top;\n",
       "    }\n",
       "\n",
       "    .dataframe thead th {\n",
       "        text-align: right;\n",
       "    }\n",
       "</style>\n",
       "<table border=\"1\" class=\"dataframe\">\n",
       "  <thead>\n",
       "    <tr style=\"text-align: right;\">\n",
       "      <th></th>\n",
       "      <th>total_post_count</th>\n",
       "      <th>total_topic_count</th>\n",
       "      <th>total_view_count</th>\n",
       "      <th>total_watch_count</th>\n",
       "      <th>total_participants</th>\n",
       "      <th>title</th>\n",
       "      <th>project_id</th>\n",
       "      <th>categories</th>\n",
       "      <th>action</th>\n",
       "      <th>content_type_name</th>\n",
       "      <th>parent_content_type_name</th>\n",
       "      <th>watch</th>\n",
       "      <th>user_id</th>\n",
       "    </tr>\n",
       "  </thead>\n",
       "  <tbody>\n",
       "    <tr>\n",
       "      <th>8014263</th>\n",
       "      <td>7285</td>\n",
       "      <td>53</td>\n",
       "      <td>16973</td>\n",
       "      <td>17116</td>\n",
       "      <td>17379</td>\n",
       "      <td>The Urbanization of Mars</td>\n",
       "      <td>279</td>\n",
       "      <td>Mars</td>\n",
       "      <td>content_published</td>\n",
       "      <td>post</td>\n",
       "      <td>entry</td>\n",
       "      <td>yes</td>\n",
       "      <td>132628</td>\n",
       "    </tr>\n",
       "    <tr>\n",
       "      <th>5776948</th>\n",
       "      <td>7285</td>\n",
       "      <td>53</td>\n",
       "      <td>16973</td>\n",
       "      <td>17116</td>\n",
       "      <td>17379</td>\n",
       "      <td>The Urbanization of Mars</td>\n",
       "      <td>279</td>\n",
       "      <td>Mars</td>\n",
       "      <td>content_published</td>\n",
       "      <td>post</td>\n",
       "      <td>entry</td>\n",
       "      <td>yes</td>\n",
       "      <td>191938</td>\n",
       "    </tr>\n",
       "    <tr>\n",
       "      <th>11219225</th>\n",
       "      <td>7285</td>\n",
       "      <td>53</td>\n",
       "      <td>16973</td>\n",
       "      <td>17116</td>\n",
       "      <td>17379</td>\n",
       "      <td>The Urbanization of Mars</td>\n",
       "      <td>279</td>\n",
       "      <td>Mars</td>\n",
       "      <td>content_published</td>\n",
       "      <td>post</td>\n",
       "      <td>entry</td>\n",
       "      <td>yes</td>\n",
       "      <td>154686</td>\n",
       "    </tr>\n",
       "    <tr>\n",
       "      <th>3617170</th>\n",
       "      <td>7285</td>\n",
       "      <td>53</td>\n",
       "      <td>16973</td>\n",
       "      <td>17116</td>\n",
       "      <td>17379</td>\n",
       "      <td>The Urbanization of Mars</td>\n",
       "      <td>279</td>\n",
       "      <td>Mars</td>\n",
       "      <td>content_published</td>\n",
       "      <td>entry</td>\n",
       "      <td>challenge</td>\n",
       "      <td>yes</td>\n",
       "      <td>175315</td>\n",
       "    </tr>\n",
       "    <tr>\n",
       "      <th>14095165</th>\n",
       "      <td>7285</td>\n",
       "      <td>53</td>\n",
       "      <td>16973</td>\n",
       "      <td>17116</td>\n",
       "      <td>17379</td>\n",
       "      <td>The Urbanization of Mars</td>\n",
       "      <td>279</td>\n",
       "      <td>Mars</td>\n",
       "      <td>content_published</td>\n",
       "      <td>post</td>\n",
       "      <td>topic</td>\n",
       "      <td>yes</td>\n",
       "      <td>178925</td>\n",
       "    </tr>\n",
       "  </tbody>\n",
       "</table>\n",
       "</div>"
      ],
      "text/plain": [
       "          total_post_count  total_topic_count  total_view_count  \\\n",
       "8014263               7285                 53             16973   \n",
       "5776948               7285                 53             16973   \n",
       "11219225              7285                 53             16973   \n",
       "3617170               7285                 53             16973   \n",
       "14095165              7285                 53             16973   \n",
       "\n",
       "          total_watch_count  total_participants                     title  \\\n",
       "8014263               17116               17379  The Urbanization of Mars   \n",
       "5776948               17116               17379  The Urbanization of Mars   \n",
       "11219225              17116               17379  The Urbanization of Mars   \n",
       "3617170               17116               17379  The Urbanization of Mars   \n",
       "14095165              17116               17379  The Urbanization of Mars   \n",
       "\n",
       "          project_id categories             action content_type_name  \\\n",
       "8014263          279       Mars  content_published              post   \n",
       "5776948          279       Mars  content_published              post   \n",
       "11219225         279       Mars  content_published              post   \n",
       "3617170          279       Mars  content_published             entry   \n",
       "14095165         279       Mars  content_published              post   \n",
       "\n",
       "         parent_content_type_name watch  user_id  \n",
       "8014263                     entry   yes   132628  \n",
       "5776948                     entry   yes   191938  \n",
       "11219225                    entry   yes   154686  \n",
       "3617170                 challenge   yes   175315  \n",
       "14095165                    topic   yes   178925  "
      ]
     },
     "execution_count": 53,
     "metadata": {},
     "output_type": "execute_result"
    }
   ],
   "source": [
    "project_content.head()"
   ]
  },
  {
   "cell_type": "markdown",
   "metadata": {},
   "source": [
    "## Exploratory Data Analysis"
   ]
  },
  {
   "cell_type": "markdown",
   "metadata": {},
   "source": [
    "#### Data shape"
   ]
  },
  {
   "cell_type": "code",
   "execution_count": 54,
   "metadata": {},
   "outputs": [
    {
     "data": {
      "text/plain": [
       "(167157, 13)"
      ]
     },
     "execution_count": 54,
     "metadata": {},
     "output_type": "execute_result"
    }
   ],
   "source": [
    "project_content.shape"
   ]
  },
  {
   "cell_type": "markdown",
   "metadata": {},
   "source": [
    "#### Data types\n",
    "All data types look correct"
   ]
  },
  {
   "cell_type": "code",
   "execution_count": 55,
   "metadata": {},
   "outputs": [
    {
     "data": {
      "text/plain": [
       "total_post_count             int64\n",
       "total_topic_count            int64\n",
       "total_view_count             int64\n",
       "total_watch_count            int64\n",
       "total_participants           int64\n",
       "title                       object\n",
       "project_id                   int64\n",
       "categories                  object\n",
       "action                      object\n",
       "content_type_name           object\n",
       "parent_content_type_name    object\n",
       "watch                       object\n",
       "user_id                      int64\n",
       "dtype: object"
      ]
     },
     "execution_count": 55,
     "metadata": {},
     "output_type": "execute_result"
    }
   ],
   "source": [
    "project_content.dtypes"
   ]
  },
  {
   "cell_type": "markdown",
   "metadata": {},
   "source": [
    "#### Count of null values\n",
    "All null values were gotten rid of prior to pulling into the notebook and merging the datasets, however you can see above some of the other clean up that happened."
   ]
  },
  {
   "cell_type": "code",
   "execution_count": 56,
   "metadata": {},
   "outputs": [
    {
     "data": {
      "text/plain": [
       "total_post_count            0\n",
       "total_topic_count           0\n",
       "total_view_count            0\n",
       "total_watch_count           0\n",
       "total_participants          0\n",
       "title                       0\n",
       "project_id                  0\n",
       "categories                  0\n",
       "action                      0\n",
       "content_type_name           0\n",
       "parent_content_type_name    0\n",
       "watch                       0\n",
       "user_id                     0\n",
       "dtype: int64"
      ]
     },
     "execution_count": 56,
     "metadata": {},
     "output_type": "execute_result"
    }
   ],
   "source": [
    "project_content.isnull().sum()"
   ]
  },
  {
   "cell_type": "markdown",
   "metadata": {},
   "source": [
    "#### Basic Summary Statistics\n",
    "Because of the kind of data this is, ie project totals and ids these numbers really don't mean anything"
   ]
  },
  {
   "cell_type": "code",
   "execution_count": 57,
   "metadata": {},
   "outputs": [
    {
     "data": {
      "text/html": [
       "<div>\n",
       "<style scoped>\n",
       "    .dataframe tbody tr th:only-of-type {\n",
       "        vertical-align: middle;\n",
       "    }\n",
       "\n",
       "    .dataframe tbody tr th {\n",
       "        vertical-align: top;\n",
       "    }\n",
       "\n",
       "    .dataframe thead th {\n",
       "        text-align: right;\n",
       "    }\n",
       "</style>\n",
       "<table border=\"1\" class=\"dataframe\">\n",
       "  <thead>\n",
       "    <tr style=\"text-align: right;\">\n",
       "      <th></th>\n",
       "      <th>total_post_count</th>\n",
       "      <th>total_topic_count</th>\n",
       "      <th>total_view_count</th>\n",
       "      <th>total_watch_count</th>\n",
       "      <th>total_participants</th>\n",
       "      <th>project_id</th>\n",
       "      <th>user_id</th>\n",
       "    </tr>\n",
       "  </thead>\n",
       "  <tbody>\n",
       "    <tr>\n",
       "      <th>count</th>\n",
       "      <td>167157.000000</td>\n",
       "      <td>167157.000000</td>\n",
       "      <td>167157.000000</td>\n",
       "      <td>167157.000000</td>\n",
       "      <td>167157.000000</td>\n",
       "      <td>167157.000000</td>\n",
       "      <td>167157.000000</td>\n",
       "    </tr>\n",
       "    <tr>\n",
       "      <th>mean</th>\n",
       "      <td>5815.850781</td>\n",
       "      <td>40.522036</td>\n",
       "      <td>21896.012437</td>\n",
       "      <td>13510.931543</td>\n",
       "      <td>13727.351855</td>\n",
       "      <td>282.705139</td>\n",
       "      <td>145446.027052</td>\n",
       "    </tr>\n",
       "    <tr>\n",
       "      <th>std</th>\n",
       "      <td>2529.062866</td>\n",
       "      <td>21.157125</td>\n",
       "      <td>28143.537381</td>\n",
       "      <td>6114.008899</td>\n",
       "      <td>6192.906400</td>\n",
       "      <td>13.923000</td>\n",
       "      <td>38692.083945</td>\n",
       "    </tr>\n",
       "    <tr>\n",
       "      <th>min</th>\n",
       "      <td>6.000000</td>\n",
       "      <td>1.000000</td>\n",
       "      <td>559.000000</td>\n",
       "      <td>51.000000</td>\n",
       "      <td>53.000000</td>\n",
       "      <td>138.000000</td>\n",
       "      <td>1.000000</td>\n",
       "    </tr>\n",
       "    <tr>\n",
       "      <th>25%</th>\n",
       "      <td>2665.000000</td>\n",
       "      <td>19.000000</td>\n",
       "      <td>16973.000000</td>\n",
       "      <td>4485.000000</td>\n",
       "      <td>4599.000000</td>\n",
       "      <td>279.000000</td>\n",
       "      <td>116136.000000</td>\n",
       "    </tr>\n",
       "    <tr>\n",
       "      <th>50%</th>\n",
       "      <td>7285.000000</td>\n",
       "      <td>53.000000</td>\n",
       "      <td>16973.000000</td>\n",
       "      <td>17116.000000</td>\n",
       "      <td>17379.000000</td>\n",
       "      <td>279.000000</td>\n",
       "      <td>149101.000000</td>\n",
       "    </tr>\n",
       "    <tr>\n",
       "      <th>75%</th>\n",
       "      <td>7285.000000</td>\n",
       "      <td>53.000000</td>\n",
       "      <td>16973.000000</td>\n",
       "      <td>17116.000000</td>\n",
       "      <td>17379.000000</td>\n",
       "      <td>279.000000</td>\n",
       "      <td>173626.000000</td>\n",
       "    </tr>\n",
       "    <tr>\n",
       "      <th>max</th>\n",
       "      <td>10980.000000</td>\n",
       "      <td>53.000000</td>\n",
       "      <td>125156.000000</td>\n",
       "      <td>17116.000000</td>\n",
       "      <td>17379.000000</td>\n",
       "      <td>322.000000</td>\n",
       "      <td>211638.000000</td>\n",
       "    </tr>\n",
       "  </tbody>\n",
       "</table>\n",
       "</div>"
      ],
      "text/plain": [
       "       total_post_count  total_topic_count  total_view_count  \\\n",
       "count     167157.000000      167157.000000     167157.000000   \n",
       "mean        5815.850781          40.522036      21896.012437   \n",
       "std         2529.062866          21.157125      28143.537381   \n",
       "min            6.000000           1.000000        559.000000   \n",
       "25%         2665.000000          19.000000      16973.000000   \n",
       "50%         7285.000000          53.000000      16973.000000   \n",
       "75%         7285.000000          53.000000      16973.000000   \n",
       "max        10980.000000          53.000000     125156.000000   \n",
       "\n",
       "       total_watch_count  total_participants     project_id        user_id  \n",
       "count      167157.000000       167157.000000  167157.000000  167157.000000  \n",
       "mean        13510.931543        13727.351855     282.705139  145446.027052  \n",
       "std          6114.008899         6192.906400      13.923000   38692.083945  \n",
       "min            51.000000           53.000000     138.000000       1.000000  \n",
       "25%          4485.000000         4599.000000     279.000000  116136.000000  \n",
       "50%         17116.000000        17379.000000     279.000000  149101.000000  \n",
       "75%         17116.000000        17379.000000     279.000000  173626.000000  \n",
       "max         17116.000000        17379.000000     322.000000  211638.000000  "
      ]
     },
     "execution_count": 57,
     "metadata": {},
     "output_type": "execute_result"
    }
   ],
   "source": [
    "project_content.describe()"
   ]
  },
  {
   "cell_type": "markdown",
   "metadata": {},
   "source": [
    "#### Number of unique values for each column"
   ]
  },
  {
   "cell_type": "code",
   "execution_count": 58,
   "metadata": {},
   "outputs": [
    {
     "data": {
      "text/plain": [
       "total_post_count              30\n",
       "total_topic_count             17\n",
       "total_view_count              30\n",
       "total_watch_count             29\n",
       "total_participants            30\n",
       "title                         30\n",
       "project_id                    30\n",
       "categories                    10\n",
       "action                         1\n",
       "content_type_name              3\n",
       "parent_content_type_name       5\n",
       "watch                          1\n",
       "user_id                     3478\n",
       "dtype: int64"
      ]
     },
     "execution_count": 58,
     "metadata": {},
     "output_type": "execute_result"
    }
   ],
   "source": [
    "project_content.nunique()"
   ]
  },
  {
   "cell_type": "markdown",
   "metadata": {},
   "source": [
    "#### Plot the distribution of each column\n",
    "Looking at the distribution of each column by category "
   ]
  },
  {
   "cell_type": "code",
   "execution_count": 113,
   "metadata": {},
   "outputs": [
    {
     "data": {
      "image/png": "[encoded data removed]",
      "text/plain": [
       "<Figure size 1152x720 with 6 Axes>"
      ]
     },
     "metadata": {},
     "output_type": "display_data"
    }
   ],
   "source": [
    "axes = project_content.drop(['user_id', 'project_id'], axis=1).boxplot(by='categories', figsize=(16,10), rot=45)\n"
   ]
  },
  {
   "cell_type": "markdown",
   "metadata": {},
   "source": [
    "#### Compare metrics against each other\n",
    "Compare total counts of different engagement metrics together to see if there are any correlations that pop out."
   ]
  },
  {
   "cell_type": "code",
   "execution_count": 116,
   "metadata": {},
   "outputs": [
    {
     "data": {
      "image/png": "[encoded data removed]",
      "text/plain": [
       "<Figure size 432x288 with 1 Axes>"
      ]
     },
     "metadata": {},
     "output_type": "display_data"
    },
    {
     "data": {
      "image/png": "[encoded data removed]",
      "text/plain": [
       "<Figure size 432x288 with 1 Axes>"
      ]
     },
     "metadata": {},
     "output_type": "display_data"
    },
    {
     "data": {
      "image/png": "[encoded data removed]",
      "text/plain": [
       "<Figure size 432x288 with 1 Axes>"
      ]
     },
     "metadata": {},
     "output_type": "display_data"
    },
    {
     "data": {
      "image/png": "[encoded data removed]",
      "text/plain": [
       "<Figure size 432x288 with 1 Axes>"
      ]
     },
     "metadata": {},
     "output_type": "display_data"
    }
   ],
   "source": [
    "columns = ['total_post_count', 'total_topic_count', 'total_view_count', 'total_watch_count']\n",
    "\n",
    "for x in columns:\n",
    "    ax = project_content.plot(kind='scatter', x=x, y='total_participants')"
   ]
  },
  {
   "cell_type": "markdown",
   "metadata": {},
   "source": [
    "#### Shortcomings\n",
    "This will likely need to be classification model and currently because of the kind of data there are not a lot of strictly numerical columns. These will hvae to be created through value counts"
   ]
  },
  {
   "cell_type": "markdown",
   "metadata": {},
   "source": [
    "#### Assumptions\n",
    "The value contents of the published_content such as entries, posts, ideas, etc. will be the most valuable when starting the modeling."
   ]
  },
  {
   "cell_type": "markdown",
   "metadata": {},
   "source": [
    "#### Next Steps\n",
    " - Decide which transformations (means, value_counts, etc) of columns should happen to help better build out a predictive model. \n",
    " - Decide which type of model will suit my data best."
   ]
  },
  {
   "cell_type": "code",
   "execution_count": null,
   "metadata": {},
   "outputs": [],
   "source": []
  },
  {
   "cell_type": "code",
   "execution_count": null,
   "metadata": {},
   "outputs": [],
   "source": []
  }
 ],
 "metadata": {
  "kernelspec": {
   "display_name": "Python 3",
   "language": "python",
   "name": "python3"
  },
  "language_info": {
   "codemirror_mode": {
    "name": "ipython",
    "version": 3
   },
   "file_extension": ".py",
   "mimetype": "text/x-python",
   "name": "python",
   "nbconvert_exporter": "python",
   "pygments_lexer": "ipython3",
   "version": "3.6.5"
  }
 },
 "nbformat": 4,
 "nbformat_minor": 2
}
