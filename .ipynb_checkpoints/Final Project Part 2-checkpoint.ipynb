{
 "cells": [
  {
   "cell_type": "code",
   "execution_count": 13,
   "metadata": {},
   "outputs": [],
   "source": [
    "from pathlib import Path\n",
    "import pandas as pd\n",
    "import numpy as np\n",
    "import matplotlib.pyplot as plt"
   ]
  },
  {
   "cell_type": "markdown",
   "metadata": {},
   "source": [
    "## Import datasets + check values\n",
    "import the 6 datasets and check shape, null values and data types"
   ]
  },
  {
   "cell_type": "code",
   "execution_count": 14,
   "metadata": {},
   "outputs": [],
   "source": [
    "#import published content csv\n",
    "content_path = './assets/datasets/content_published_scrubbed.csv'\n",
    "pub_content = pd.read_csv(content_path)"
   ]
  },
  {
   "cell_type": "code",
   "execution_count": 15,
   "metadata": {},
   "outputs": [
    {
     "data": {
      "text/plain": [
       "(30325, 5)"
      ]
     },
     "execution_count": 15,
     "metadata": {},
     "output_type": "execute_result"
    }
   ],
   "source": [
    "pub_content.shape"
   ]
  },
  {
   "cell_type": "code",
   "execution_count": 16,
   "metadata": {},
   "outputs": [
    {
     "data": {
      "text/plain": [
       "action                      object\n",
       "content_type_name           object\n",
       "parent_content_type_name    object\n",
       "project_id                   int64\n",
       "user_id                      int64\n",
       "dtype: object"
      ]
     },
     "execution_count": 16,
     "metadata": {},
     "output_type": "execute_result"
    }
   ],
   "source": [
    "pub_content.dtypes"
   ]
  },
  {
   "cell_type": "code",
   "execution_count": 17,
   "metadata": {},
   "outputs": [],
   "source": [
    "#import watch csv\n",
    "watch_path = './assets/datasets/watch_scrubbed.csv'\n",
    "watches = pd.read_csv(watch_path)"
   ]
  },
  {
   "cell_type": "code",
   "execution_count": 18,
   "metadata": {},
   "outputs": [
    {
     "data": {
      "text/plain": [
       "(6004, 5)"
      ]
     },
     "execution_count": 18,
     "metadata": {},
     "output_type": "execute_result"
    }
   ],
   "source": [
    "watches.shape"
   ]
  },
  {
   "cell_type": "code",
   "execution_count": 19,
   "metadata": {},
   "outputs": [
    {
     "data": {
      "text/plain": [
       "watch                        0\n",
       "content_type_name            0\n",
       "parent_content_type_name     0\n",
       "project_id                  12\n",
       "user_id                      0\n",
       "dtype: int64"
      ]
     },
     "execution_count": 19,
     "metadata": {},
     "output_type": "execute_result"
    }
   ],
   "source": [
    "watches.isnull().sum()"
   ]
  },
  {
   "cell_type": "code",
   "execution_count": 20,
   "metadata": {},
   "outputs": [
    {
     "data": {
      "text/plain": [
       "(5992, 5)"
      ]
     },
     "execution_count": 20,
     "metadata": {},
     "output_type": "execute_result"
    }
   ],
   "source": [
    "watches.dropna(axis=0, inplace=True)\n",
    "watches.shape"
   ]
  },
  {
   "cell_type": "code",
   "execution_count": 21,
   "metadata": {},
   "outputs": [
    {
     "data": {
      "text/plain": [
       "watch                        object\n",
       "content_type_name            object\n",
       "parent_content_type_name     object\n",
       "project_id                  float64\n",
       "user_id                       int64\n",
       "dtype: object"
      ]
     },
     "execution_count": 21,
     "metadata": {},
     "output_type": "execute_result"
    }
   ],
   "source": [
    "watches.dtypes"
   ]
  },
  {
   "cell_type": "code",
   "execution_count": 22,
   "metadata": {},
   "outputs": [
    {
     "data": {
      "text/plain": [
       "watch                       object\n",
       "content_type_name           object\n",
       "parent_content_type_name    object\n",
       "project_id                   int64\n",
       "user_id                      int64\n",
       "dtype: object"
      ]
     },
     "execution_count": 22,
     "metadata": {},
     "output_type": "execute_result"
    }
   ],
   "source": [
    "watches['project_id'] = watches.project_id.astype('int64')\n",
    "watches.dtypes"
   ]
  },
  {
   "cell_type": "code",
   "execution_count": 23,
   "metadata": {},
   "outputs": [],
   "source": [
    "#import entry vote csv\n",
    "vote_path = './assets/datasets/entry_vote_scrubbed.csv'\n",
    "entry_votes = pd.read_csv(vote_path)"
   ]
  },
  {
   "cell_type": "code",
   "execution_count": 24,
   "metadata": {},
   "outputs": [
    {
     "data": {
      "text/plain": [
       "(37893, 5)"
      ]
     },
     "execution_count": 24,
     "metadata": {},
     "output_type": "execute_result"
    }
   ],
   "source": [
    "entry_votes.shape"
   ]
  },
  {
   "cell_type": "code",
   "execution_count": 25,
   "metadata": {},
   "outputs": [
    {
     "data": {
      "text/plain": [
       "vote                        0\n",
       "content_type_name           0\n",
       "project_id                  0\n",
       "parent_content_type_name    0\n",
       "user_id                     0\n",
       "dtype: int64"
      ]
     },
     "execution_count": 25,
     "metadata": {},
     "output_type": "execute_result"
    }
   ],
   "source": [
    "entry_votes.isnull().sum()"
   ]
  },
  {
   "cell_type": "code",
   "execution_count": 26,
   "metadata": {},
   "outputs": [
    {
     "data": {
      "text/plain": [
       "vote                        object\n",
       "content_type_name           object\n",
       "project_id                   int64\n",
       "parent_content_type_name    object\n",
       "user_id                      int64\n",
       "dtype: object"
      ]
     },
     "execution_count": 26,
     "metadata": {},
     "output_type": "execute_result"
    }
   ],
   "source": [
    "entry_votes.dtypes"
   ]
  },
  {
   "cell_type": "code",
   "execution_count": 27,
   "metadata": {},
   "outputs": [],
   "source": [
    "#import project csv\n",
    "project_path = './assets/datasets/projects_scrubbed.csv'\n",
    "projects = pd.read_csv(project_path)"
   ]
  },
  {
   "cell_type": "code",
   "execution_count": 28,
   "metadata": {},
   "outputs": [
    {
     "data": {
      "text/plain": [
       "(41, 10)"
      ]
     },
     "execution_count": 28,
     "metadata": {},
     "output_type": "execute_result"
    }
   ],
   "source": [
    "projects.shape"
   ]
  },
  {
   "cell_type": "code",
   "execution_count": 29,
   "metadata": {},
   "outputs": [
    {
     "data": {
      "text/plain": [
       "content_type_name           0\n",
       "parent_content_type_name    0\n",
       "post_count                  0\n",
       "topic_count                 0\n",
       "view_count                  0\n",
       "watch_count                 0\n",
       "participants                0\n",
       "title                       0\n",
       "project_id                  0\n",
       "categories                  0\n",
       "dtype: int64"
      ]
     },
     "execution_count": 29,
     "metadata": {},
     "output_type": "execute_result"
    }
   ],
   "source": [
    "projects.isnull().sum()"
   ]
  },
  {
   "cell_type": "code",
   "execution_count": 30,
   "metadata": {},
   "outputs": [
    {
     "data": {
      "text/plain": [
       "content_type_name           object\n",
       "parent_content_type_name    object\n",
       "post_count                   int64\n",
       "topic_count                  int64\n",
       "view_count                   int64\n",
       "watch_count                  int64\n",
       "participants                 int64\n",
       "title                       object\n",
       "project_id                   int64\n",
       "categories                  object\n",
       "dtype: object"
      ]
     },
     "execution_count": 30,
     "metadata": {},
     "output_type": "execute_result"
    }
   ],
   "source": [
    "projects.dtypes"
   ]
  },
  {
   "cell_type": "code",
   "execution_count": 31,
   "metadata": {},
   "outputs": [],
   "source": [
    "#import users csv\n",
    "users_path = './assets/datasets/users_scrubbed.csv'\n",
    "users = pd.read_csv(users_path)"
   ]
  },
  {
   "cell_type": "code",
   "execution_count": 32,
   "metadata": {},
   "outputs": [
    {
     "data": {
      "text/plain": [
       "(194152, 2)"
      ]
     },
     "execution_count": 32,
     "metadata": {},
     "output_type": "execute_result"
    }
   ],
   "source": [
    "users.shape"
   ]
  },
  {
   "cell_type": "code",
   "execution_count": 33,
   "metadata": {},
   "outputs": [
    {
     "data": {
      "text/plain": [
       "username    0\n",
       "user_id     0\n",
       "dtype: int64"
      ]
     },
     "execution_count": 33,
     "metadata": {},
     "output_type": "execute_result"
    }
   ],
   "source": [
    "users.isnull().sum()"
   ]
  },
  {
   "cell_type": "code",
   "execution_count": 34,
   "metadata": {},
   "outputs": [
    {
     "data": {
      "text/plain": [
       "username    object\n",
       "user_id      int64\n",
       "dtype: object"
      ]
     },
     "execution_count": 34,
     "metadata": {},
     "output_type": "execute_result"
    }
   ],
   "source": [
    "users.dtypes"
   ]
  },
  {
   "cell_type": "markdown",
   "metadata": {},
   "source": [
    "## Test merge on a sample\n",
    "Prior to mergin all 7 datasets I wanted to do a test merge on a sample of two to make sure that everything is looking and coming together like I wanted"
   ]
  },
  {
   "cell_type": "code",
   "execution_count": 35,
   "metadata": {},
   "outputs": [
    {
     "data": {
      "text/html": [
       "<div>\n",
       "<style scoped>\n",
       "    .dataframe tbody tr th:only-of-type {\n",
       "        vertical-align: middle;\n",
       "    }\n",
       "\n",
       "    .dataframe tbody tr th {\n",
       "        vertical-align: top;\n",
       "    }\n",
       "\n",
       "    .dataframe thead th {\n",
       "        text-align: right;\n",
       "    }\n",
       "</style>\n",
       "<table border=\"1\" class=\"dataframe\">\n",
       "  <thead>\n",
       "    <tr style=\"text-align: right;\">\n",
       "      <th></th>\n",
       "      <th>content_type_name</th>\n",
       "      <th>parent_content_type_name</th>\n",
       "      <th>post_count</th>\n",
       "      <th>topic_count</th>\n",
       "      <th>view_count</th>\n",
       "      <th>watch_count</th>\n",
       "      <th>participants</th>\n",
       "      <th>title</th>\n",
       "      <th>project_id</th>\n",
       "      <th>categories</th>\n",
       "    </tr>\n",
       "  </thead>\n",
       "  <tbody>\n",
       "    <tr>\n",
       "      <th>14</th>\n",
       "      <td>project</td>\n",
       "      <td>project</td>\n",
       "      <td>179</td>\n",
       "      <td>5</td>\n",
       "      <td>1786</td>\n",
       "      <td>413</td>\n",
       "      <td>431</td>\n",
       "      <td>House the World</td>\n",
       "      <td>268</td>\n",
       "      <td>Architecture and Construction</td>\n",
       "    </tr>\n",
       "    <tr>\n",
       "      <th>4</th>\n",
       "      <td>project</td>\n",
       "      <td>project</td>\n",
       "      <td>116</td>\n",
       "      <td>8</td>\n",
       "      <td>1809</td>\n",
       "      <td>357</td>\n",
       "      <td>368</td>\n",
       "      <td>Axion</td>\n",
       "      <td>250</td>\n",
       "      <td>Infrastructure and Energy</td>\n",
       "    </tr>\n",
       "    <tr>\n",
       "      <th>25</th>\n",
       "      <td>project</td>\n",
       "      <td>project</td>\n",
       "      <td>132</td>\n",
       "      <td>2</td>\n",
       "      <td>1214</td>\n",
       "      <td>51</td>\n",
       "      <td>53</td>\n",
       "      <td>Measuring Reflective Objects</td>\n",
       "      <td>209</td>\n",
       "      <td>Industrial Inspection and Monitoring</td>\n",
       "    </tr>\n",
       "    <tr>\n",
       "      <th>30</th>\n",
       "      <td>project</td>\n",
       "      <td>project</td>\n",
       "      <td>142</td>\n",
       "      <td>12</td>\n",
       "      <td>5245</td>\n",
       "      <td>1860</td>\n",
       "      <td>1893</td>\n",
       "      <td>Robots 4 Humanity</td>\n",
       "      <td>284</td>\n",
       "      <td>Health and Wellness</td>\n",
       "    </tr>\n",
       "    <tr>\n",
       "      <th>11</th>\n",
       "      <td>project</td>\n",
       "      <td>project</td>\n",
       "      <td>134</td>\n",
       "      <td>21</td>\n",
       "      <td>2462</td>\n",
       "      <td>9743</td>\n",
       "      <td>9836</td>\n",
       "      <td>Farming Mars</td>\n",
       "      <td>276</td>\n",
       "      <td>Mars</td>\n",
       "    </tr>\n",
       "    <tr>\n",
       "      <th>26</th>\n",
       "      <td>project</td>\n",
       "      <td>project</td>\n",
       "      <td>2665</td>\n",
       "      <td>1</td>\n",
       "      <td>125156</td>\n",
       "      <td>4485</td>\n",
       "      <td>4599</td>\n",
       "      <td>Modular Logistics Vehicle</td>\n",
       "      <td>293</td>\n",
       "      <td>Ground Mobility</td>\n",
       "    </tr>\n",
       "    <tr>\n",
       "      <th>31</th>\n",
       "      <td>project</td>\n",
       "      <td>project</td>\n",
       "      <td>63</td>\n",
       "      <td>6</td>\n",
       "      <td>2520</td>\n",
       "      <td>12525</td>\n",
       "      <td>12670</td>\n",
       "      <td>Robots of Mars</td>\n",
       "      <td>275</td>\n",
       "      <td>Mars</td>\n",
       "    </tr>\n",
       "    <tr>\n",
       "      <th>21</th>\n",
       "      <td>project</td>\n",
       "      <td>project</td>\n",
       "      <td>6</td>\n",
       "      <td>2</td>\n",
       "      <td>711</td>\n",
       "      <td>61</td>\n",
       "      <td>63</td>\n",
       "      <td>LMDRONES: Racing Quadcopters</td>\n",
       "      <td>138</td>\n",
       "      <td>Consumer Products</td>\n",
       "    </tr>\n",
       "    <tr>\n",
       "      <th>35</th>\n",
       "      <td>project</td>\n",
       "      <td>project</td>\n",
       "      <td>82</td>\n",
       "      <td>18</td>\n",
       "      <td>3964</td>\n",
       "      <td>12602</td>\n",
       "      <td>12746</td>\n",
       "      <td>Technicolor VR Experience</td>\n",
       "      <td>278</td>\n",
       "      <td>Mars</td>\n",
       "    </tr>\n",
       "    <tr>\n",
       "      <th>29</th>\n",
       "      <td>project</td>\n",
       "      <td>project</td>\n",
       "      <td>198</td>\n",
       "      <td>5</td>\n",
       "      <td>4417</td>\n",
       "      <td>240</td>\n",
       "      <td>253</td>\n",
       "      <td>Position Sensor for Inspection Probes</td>\n",
       "      <td>267</td>\n",
       "      <td>Industrial Inspection and Monitoring</td>\n",
       "    </tr>\n",
       "  </tbody>\n",
       "</table>\n",
       "</div>"
      ],
      "text/plain": [
       "   content_type_name parent_content_type_name  post_count  topic_count  \\\n",
       "14           project                  project         179            5   \n",
       "4            project                  project         116            8   \n",
       "25           project                  project         132            2   \n",
       "30           project                  project         142           12   \n",
       "11           project                  project         134           21   \n",
       "26           project                  project        2665            1   \n",
       "31           project                  project          63            6   \n",
       "21           project                  project           6            2   \n",
       "35           project                  project          82           18   \n",
       "29           project                  project         198            5   \n",
       "\n",
       "    view_count  watch_count  participants  \\\n",
       "14        1786          413           431   \n",
       "4         1809          357           368   \n",
       "25        1214           51            53   \n",
       "30        5245         1860          1893   \n",
       "11        2462         9743          9836   \n",
       "26      125156         4485          4599   \n",
       "31        2520        12525         12670   \n",
       "21         711           61            63   \n",
       "35        3964        12602         12746   \n",
       "29        4417          240           253   \n",
       "\n",
       "                                    title  project_id  \\\n",
       "14                        House the World         268   \n",
       "4                                   Axion         250   \n",
       "25           Measuring Reflective Objects         209   \n",
       "30                      Robots 4 Humanity         284   \n",
       "11                           Farming Mars         276   \n",
       "26              Modular Logistics Vehicle         293   \n",
       "31                         Robots of Mars         275   \n",
       "21           LMDRONES: Racing Quadcopters         138   \n",
       "35              Technicolor VR Experience         278   \n",
       "29  Position Sensor for Inspection Probes         267   \n",
       "\n",
       "                              categories  \n",
       "14         Architecture and Construction  \n",
       "4              Infrastructure and Energy  \n",
       "25  Industrial Inspection and Monitoring  \n",
       "30                   Health and Wellness  \n",
       "11                                  Mars  \n",
       "26                       Ground Mobility  \n",
       "31                                  Mars  \n",
       "21                     Consumer Products  \n",
       "35                                  Mars  \n",
       "29  Industrial Inspection and Monitoring  "
      ]
     },
     "execution_count": 35,
     "metadata": {},
     "output_type": "execute_result"
    }
   ],
   "source": [
    "proj_sample = projects.sample(n=10, axis=0)\n",
    "proj_sample"
   ]
  },
  {
   "cell_type": "code",
   "execution_count": 36,
   "metadata": {},
   "outputs": [
    {
     "data": {
      "text/html": [
       "<div>\n",
       "<style scoped>\n",
       "    .dataframe tbody tr th:only-of-type {\n",
       "        vertical-align: middle;\n",
       "    }\n",
       "\n",
       "    .dataframe tbody tr th {\n",
       "        vertical-align: top;\n",
       "    }\n",
       "\n",
       "    .dataframe thead th {\n",
       "        text-align: right;\n",
       "    }\n",
       "</style>\n",
       "<table border=\"1\" class=\"dataframe\">\n",
       "  <thead>\n",
       "    <tr style=\"text-align: right;\">\n",
       "      <th></th>\n",
       "      <th>watch</th>\n",
       "      <th>content_type_name</th>\n",
       "      <th>parent_content_type_name</th>\n",
       "      <th>project_id</th>\n",
       "      <th>user_id</th>\n",
       "    </tr>\n",
       "  </thead>\n",
       "  <tbody>\n",
       "    <tr>\n",
       "      <th>1071</th>\n",
       "      <td>yes</td>\n",
       "      <td>project</td>\n",
       "      <td>project</td>\n",
       "      <td>272</td>\n",
       "      <td>113662</td>\n",
       "    </tr>\n",
       "    <tr>\n",
       "      <th>1036</th>\n",
       "      <td>yes</td>\n",
       "      <td>project</td>\n",
       "      <td>project</td>\n",
       "      <td>279</td>\n",
       "      <td>113324</td>\n",
       "    </tr>\n",
       "    <tr>\n",
       "      <th>2918</th>\n",
       "      <td>yes</td>\n",
       "      <td>project</td>\n",
       "      <td>project</td>\n",
       "      <td>279</td>\n",
       "      <td>158708</td>\n",
       "    </tr>\n",
       "    <tr>\n",
       "      <th>4406</th>\n",
       "      <td>yes</td>\n",
       "      <td>project</td>\n",
       "      <td>project</td>\n",
       "      <td>268</td>\n",
       "      <td>181410</td>\n",
       "    </tr>\n",
       "    <tr>\n",
       "      <th>5179</th>\n",
       "      <td>yes</td>\n",
       "      <td>project</td>\n",
       "      <td>project</td>\n",
       "      <td>310</td>\n",
       "      <td>183586</td>\n",
       "    </tr>\n",
       "    <tr>\n",
       "      <th>3352</th>\n",
       "      <td>yes</td>\n",
       "      <td>project</td>\n",
       "      <td>project</td>\n",
       "      <td>309</td>\n",
       "      <td>79938</td>\n",
       "    </tr>\n",
       "    <tr>\n",
       "      <th>4748</th>\n",
       "      <td>yes</td>\n",
       "      <td>project</td>\n",
       "      <td>project</td>\n",
       "      <td>211</td>\n",
       "      <td>189645</td>\n",
       "    </tr>\n",
       "    <tr>\n",
       "      <th>2932</th>\n",
       "      <td>yes</td>\n",
       "      <td>project</td>\n",
       "      <td>project</td>\n",
       "      <td>278</td>\n",
       "      <td>159143</td>\n",
       "    </tr>\n",
       "    <tr>\n",
       "      <th>4871</th>\n",
       "      <td>yes</td>\n",
       "      <td>project</td>\n",
       "      <td>project</td>\n",
       "      <td>279</td>\n",
       "      <td>191456</td>\n",
       "    </tr>\n",
       "    <tr>\n",
       "      <th>219</th>\n",
       "      <td>yes</td>\n",
       "      <td>project</td>\n",
       "      <td>project</td>\n",
       "      <td>210</td>\n",
       "      <td>88343</td>\n",
       "    </tr>\n",
       "  </tbody>\n",
       "</table>\n",
       "</div>"
      ],
      "text/plain": [
       "     watch content_type_name parent_content_type_name  project_id  user_id\n",
       "1071   yes           project                  project         272   113662\n",
       "1036   yes           project                  project         279   113324\n",
       "2918   yes           project                  project         279   158708\n",
       "4406   yes           project                  project         268   181410\n",
       "5179   yes           project                  project         310   183586\n",
       "3352   yes           project                  project         309    79938\n",
       "4748   yes           project                  project         211   189645\n",
       "2932   yes           project                  project         278   159143\n",
       "4871   yes           project                  project         279   191456\n",
       "219    yes           project                  project         210    88343"
      ]
     },
     "execution_count": 36,
     "metadata": {},
     "output_type": "execute_result"
    }
   ],
   "source": [
    "watch_sample = watches.sample(n=10, axis=0)\n",
    "watch_sample"
   ]
  },
  {
   "cell_type": "code",
   "execution_count": 37,
   "metadata": {},
   "outputs": [],
   "source": [
    "watch_sample['project_id'] = watch_sample.project_id.astype('int64', inplace=True)"
   ]
  },
  {
   "cell_type": "code",
   "execution_count": 38,
   "metadata": {},
   "outputs": [],
   "source": [
    "merged = proj_sample.merge(watch_sample, how='outer', on='project_id')"
   ]
  },
  {
   "cell_type": "code",
   "execution_count": 39,
   "metadata": {},
   "outputs": [
    {
     "data": {
      "text/html": [
       "<div>\n",
       "<style scoped>\n",
       "    .dataframe tbody tr th:only-of-type {\n",
       "        vertical-align: middle;\n",
       "    }\n",
       "\n",
       "    .dataframe tbody tr th {\n",
       "        vertical-align: top;\n",
       "    }\n",
       "\n",
       "    .dataframe thead th {\n",
       "        text-align: right;\n",
       "    }\n",
       "</style>\n",
       "<table border=\"1\" class=\"dataframe\">\n",
       "  <thead>\n",
       "    <tr style=\"text-align: right;\">\n",
       "      <th></th>\n",
       "      <th>content_type_name_x</th>\n",
       "      <th>parent_content_type_name_x</th>\n",
       "      <th>post_count</th>\n",
       "      <th>topic_count</th>\n",
       "      <th>view_count</th>\n",
       "      <th>watch_count</th>\n",
       "      <th>participants</th>\n",
       "      <th>title</th>\n",
       "      <th>project_id</th>\n",
       "      <th>categories</th>\n",
       "      <th>watch</th>\n",
       "      <th>content_type_name_y</th>\n",
       "      <th>parent_content_type_name_y</th>\n",
       "      <th>user_id</th>\n",
       "    </tr>\n",
       "  </thead>\n",
       "  <tbody>\n",
       "    <tr>\n",
       "      <th>0</th>\n",
       "      <td>project</td>\n",
       "      <td>project</td>\n",
       "      <td>179.0</td>\n",
       "      <td>5.0</td>\n",
       "      <td>1786.0</td>\n",
       "      <td>413.0</td>\n",
       "      <td>431.0</td>\n",
       "      <td>House the World</td>\n",
       "      <td>268</td>\n",
       "      <td>Architecture and Construction</td>\n",
       "      <td>yes</td>\n",
       "      <td>project</td>\n",
       "      <td>project</td>\n",
       "      <td>181410.0</td>\n",
       "    </tr>\n",
       "    <tr>\n",
       "      <th>1</th>\n",
       "      <td>project</td>\n",
       "      <td>project</td>\n",
       "      <td>116.0</td>\n",
       "      <td>8.0</td>\n",
       "      <td>1809.0</td>\n",
       "      <td>357.0</td>\n",
       "      <td>368.0</td>\n",
       "      <td>Axion</td>\n",
       "      <td>250</td>\n",
       "      <td>Infrastructure and Energy</td>\n",
       "      <td>NaN</td>\n",
       "      <td>NaN</td>\n",
       "      <td>NaN</td>\n",
       "      <td>NaN</td>\n",
       "    </tr>\n",
       "    <tr>\n",
       "      <th>2</th>\n",
       "      <td>project</td>\n",
       "      <td>project</td>\n",
       "      <td>132.0</td>\n",
       "      <td>2.0</td>\n",
       "      <td>1214.0</td>\n",
       "      <td>51.0</td>\n",
       "      <td>53.0</td>\n",
       "      <td>Measuring Reflective Objects</td>\n",
       "      <td>209</td>\n",
       "      <td>Industrial Inspection and Monitoring</td>\n",
       "      <td>NaN</td>\n",
       "      <td>NaN</td>\n",
       "      <td>NaN</td>\n",
       "      <td>NaN</td>\n",
       "    </tr>\n",
       "    <tr>\n",
       "      <th>3</th>\n",
       "      <td>project</td>\n",
       "      <td>project</td>\n",
       "      <td>142.0</td>\n",
       "      <td>12.0</td>\n",
       "      <td>5245.0</td>\n",
       "      <td>1860.0</td>\n",
       "      <td>1893.0</td>\n",
       "      <td>Robots 4 Humanity</td>\n",
       "      <td>284</td>\n",
       "      <td>Health and Wellness</td>\n",
       "      <td>NaN</td>\n",
       "      <td>NaN</td>\n",
       "      <td>NaN</td>\n",
       "      <td>NaN</td>\n",
       "    </tr>\n",
       "    <tr>\n",
       "      <th>4</th>\n",
       "      <td>project</td>\n",
       "      <td>project</td>\n",
       "      <td>134.0</td>\n",
       "      <td>21.0</td>\n",
       "      <td>2462.0</td>\n",
       "      <td>9743.0</td>\n",
       "      <td>9836.0</td>\n",
       "      <td>Farming Mars</td>\n",
       "      <td>276</td>\n",
       "      <td>Mars</td>\n",
       "      <td>NaN</td>\n",
       "      <td>NaN</td>\n",
       "      <td>NaN</td>\n",
       "      <td>NaN</td>\n",
       "    </tr>\n",
       "  </tbody>\n",
       "</table>\n",
       "</div>"
      ],
      "text/plain": [
       "  content_type_name_x parent_content_type_name_x  post_count  topic_count  \\\n",
       "0             project                    project       179.0          5.0   \n",
       "1             project                    project       116.0          8.0   \n",
       "2             project                    project       132.0          2.0   \n",
       "3             project                    project       142.0         12.0   \n",
       "4             project                    project       134.0         21.0   \n",
       "\n",
       "   view_count  watch_count  participants                         title  \\\n",
       "0      1786.0        413.0         431.0               House the World   \n",
       "1      1809.0        357.0         368.0                         Axion   \n",
       "2      1214.0         51.0          53.0  Measuring Reflective Objects   \n",
       "3      5245.0       1860.0        1893.0             Robots 4 Humanity   \n",
       "4      2462.0       9743.0        9836.0                  Farming Mars   \n",
       "\n",
       "   project_id                            categories watch content_type_name_y  \\\n",
       "0         268         Architecture and Construction   yes             project   \n",
       "1         250             Infrastructure and Energy   NaN                 NaN   \n",
       "2         209  Industrial Inspection and Monitoring   NaN                 NaN   \n",
       "3         284                   Health and Wellness   NaN                 NaN   \n",
       "4         276                                  Mars   NaN                 NaN   \n",
       "\n",
       "  parent_content_type_name_y   user_id  \n",
       "0                    project  181410.0  \n",
       "1                        NaN       NaN  \n",
       "2                        NaN       NaN  \n",
       "3                        NaN       NaN  \n",
       "4                        NaN       NaN  "
      ]
     },
     "execution_count": 39,
     "metadata": {},
     "output_type": "execute_result"
    }
   ],
   "source": [
    "merged.head()"
   ]
  },
  {
   "cell_type": "markdown",
   "metadata": {},
   "source": [
    "Many of the NaNs, particularly the ones in the user_id column will go away once the entire user set is in. the 'action' column on the other hand will need some clean up"
   ]
  },
  {
   "cell_type": "markdown",
   "metadata": {},
   "source": [
    "## Merge datasets together\n",
    "Having tried to merge all 5 datasets together and running into problems with how large the dataset becomes I decided to only concat projects, watches and pub_content together and then take a sample of the dataframe since it will have over a million rows. "
   ]
  },
  {
   "cell_type": "code",
   "execution_count": 57,
   "metadata": {},
   "outputs": [],
   "source": [
    "project_content = projects.merge(pub_content, how='inner', on='project_id')"
   ]
  },
  {
   "cell_type": "code",
   "execution_count": 58,
   "metadata": {},
   "outputs": [
    {
     "data": {
      "text/plain": [
       "content_type_name_x           0\n",
       "parent_content_type_name_x    0\n",
       "post_count                    0\n",
       "topic_count                   0\n",
       "view_count                    0\n",
       "watch_count                   0\n",
       "participants                  0\n",
       "title                         0\n",
       "project_id                    0\n",
       "categories                    0\n",
       "action                        0\n",
       "content_type_name_y           0\n",
       "parent_content_type_name_y    0\n",
       "user_id                       0\n",
       "dtype: int64"
      ]
     },
     "execution_count": 58,
     "metadata": {},
     "output_type": "execute_result"
    }
   ],
   "source": [
    "project_content.isnull().sum()"
   ]
  },
  {
   "cell_type": "code",
   "execution_count": 59,
   "metadata": {},
   "outputs": [
    {
     "data": {
      "text/plain": [
       "(34438, 14)"
      ]
     },
     "execution_count": 59,
     "metadata": {},
     "output_type": "execute_result"
    }
   ],
   "source": [
    "project_content.shape"
   ]
  },
  {
   "cell_type": "code",
   "execution_count": 60,
   "metadata": {},
   "outputs": [],
   "source": [
    "content = project_content.merge(watches, how='inner', on='project_id')"
   ]
  },
  {
   "cell_type": "code",
   "execution_count": 61,
   "metadata": {},
   "outputs": [
    {
     "data": {
      "text/plain": [
       "(16715686, 18)"
      ]
     },
     "execution_count": 61,
     "metadata": {},
     "output_type": "execute_result"
    }
   ],
   "source": [
    "content.shape"
   ]
  },
  {
   "cell_type": "code",
   "execution_count": 62,
   "metadata": {},
   "outputs": [
    {
     "data": {
      "text/plain": [
       "content_type_name_x           0\n",
       "parent_content_type_name_x    0\n",
       "post_count                    0\n",
       "topic_count                   0\n",
       "view_count                    0\n",
       "watch_count                   0\n",
       "participants                  0\n",
       "title                         0\n",
       "project_id                    0\n",
       "categories                    0\n",
       "action                        0\n",
       "content_type_name_y           0\n",
       "parent_content_type_name_y    0\n",
       "user_id_x                     0\n",
       "watch                         0\n",
       "content_type_name             0\n",
       "parent_content_type_name      0\n",
       "user_id_y                     0\n",
       "dtype: int64"
      ]
     },
     "execution_count": 62,
     "metadata": {},
     "output_type": "execute_result"
    }
   ],
   "source": [
    "content.isnull().sum()"
   ]
  },
  {
   "cell_type": "markdown",
   "metadata": {},
   "source": [
    "## Take a sample"
   ]
  },
  {
   "cell_type": "code",
   "execution_count": 70,
   "metadata": {},
   "outputs": [],
   "source": [
    "content_sample = content.sample(frac=0.01)"
   ]
  },
  {
   "cell_type": "code",
   "execution_count": 71,
   "metadata": {},
   "outputs": [
    {
     "data": {
      "text/plain": [
       "(167157, 18)"
      ]
     },
     "execution_count": 71,
     "metadata": {},
     "output_type": "execute_result"
    }
   ],
   "source": [
    "content_sample.shape"
   ]
  },
  {
   "cell_type": "code",
   "execution_count": 74,
   "metadata": {},
   "outputs": [
    {
     "data": {
      "text/html": [
       "<div>\n",
       "<style scoped>\n",
       "    .dataframe tbody tr th:only-of-type {\n",
       "        vertical-align: middle;\n",
       "    }\n",
       "\n",
       "    .dataframe tbody tr th {\n",
       "        vertical-align: top;\n",
       "    }\n",
       "\n",
       "    .dataframe thead th {\n",
       "        text-align: right;\n",
       "    }\n",
       "</style>\n",
       "<table border=\"1\" class=\"dataframe\">\n",
       "  <thead>\n",
       "    <tr style=\"text-align: right;\">\n",
       "      <th></th>\n",
       "      <th>content_type_name_x</th>\n",
       "      <th>parent_content_type_name_x</th>\n",
       "      <th>post_count</th>\n",
       "      <th>topic_count</th>\n",
       "      <th>view_count</th>\n",
       "      <th>watch_count</th>\n",
       "      <th>participants</th>\n",
       "      <th>title</th>\n",
       "      <th>project_id</th>\n",
       "      <th>categories</th>\n",
       "      <th>action</th>\n",
       "      <th>content_type_name_y</th>\n",
       "      <th>parent_content_type_name_y</th>\n",
       "      <th>user_id_x</th>\n",
       "      <th>watch</th>\n",
       "      <th>content_type_name</th>\n",
       "      <th>parent_content_type_name</th>\n",
       "      <th>user_id_y</th>\n",
       "    </tr>\n",
       "  </thead>\n",
       "  <tbody>\n",
       "    <tr>\n",
       "      <th>16445910</th>\n",
       "      <td>project</td>\n",
       "      <td>project</td>\n",
       "      <td>2144</td>\n",
       "      <td>2</td>\n",
       "      <td>2798</td>\n",
       "      <td>4138</td>\n",
       "      <td>4247</td>\n",
       "      <td>Unmanned Cargo System</td>\n",
       "      <td>311</td>\n",
       "      <td>Air Mobility</td>\n",
       "      <td>content_published</td>\n",
       "      <td>post</td>\n",
       "      <td>entry</td>\n",
       "      <td>68711</td>\n",
       "      <td>yes</td>\n",
       "      <td>project</td>\n",
       "      <td>project</td>\n",
       "      <td>207319</td>\n",
       "    </tr>\n",
       "    <tr>\n",
       "      <th>12802326</th>\n",
       "      <td>project</td>\n",
       "      <td>project</td>\n",
       "      <td>7285</td>\n",
       "      <td>53</td>\n",
       "      <td>16973</td>\n",
       "      <td>17116</td>\n",
       "      <td>17379</td>\n",
       "      <td>The Urbanization of Mars</td>\n",
       "      <td>279</td>\n",
       "      <td>Mars</td>\n",
       "      <td>content_published</td>\n",
       "      <td>post</td>\n",
       "      <td>entry</td>\n",
       "      <td>210162</td>\n",
       "      <td>yes</td>\n",
       "      <td>project</td>\n",
       "      <td>project</td>\n",
       "      <td>109868</td>\n",
       "    </tr>\n",
       "    <tr>\n",
       "      <th>4944928</th>\n",
       "      <td>project</td>\n",
       "      <td>project</td>\n",
       "      <td>7285</td>\n",
       "      <td>53</td>\n",
       "      <td>16973</td>\n",
       "      <td>17116</td>\n",
       "      <td>17379</td>\n",
       "      <td>The Urbanization of Mars</td>\n",
       "      <td>279</td>\n",
       "      <td>Mars</td>\n",
       "      <td>content_published</td>\n",
       "      <td>post</td>\n",
       "      <td>entry</td>\n",
       "      <td>68711</td>\n",
       "      <td>yes</td>\n",
       "      <td>project</td>\n",
       "      <td>project</td>\n",
       "      <td>165783</td>\n",
       "    </tr>\n",
       "    <tr>\n",
       "      <th>3187643</th>\n",
       "      <td>project</td>\n",
       "      <td>project</td>\n",
       "      <td>7285</td>\n",
       "      <td>53</td>\n",
       "      <td>16973</td>\n",
       "      <td>17116</td>\n",
       "      <td>17379</td>\n",
       "      <td>The Urbanization of Mars</td>\n",
       "      <td>279</td>\n",
       "      <td>Mars</td>\n",
       "      <td>content_published</td>\n",
       "      <td>entry</td>\n",
       "      <td>challenge</td>\n",
       "      <td>113729</td>\n",
       "      <td>yes</td>\n",
       "      <td>project</td>\n",
       "      <td>project</td>\n",
       "      <td>164571</td>\n",
       "    </tr>\n",
       "    <tr>\n",
       "      <th>9254027</th>\n",
       "      <td>project</td>\n",
       "      <td>project</td>\n",
       "      <td>7285</td>\n",
       "      <td>53</td>\n",
       "      <td>16973</td>\n",
       "      <td>17116</td>\n",
       "      <td>17379</td>\n",
       "      <td>The Urbanization of Mars</td>\n",
       "      <td>279</td>\n",
       "      <td>Mars</td>\n",
       "      <td>content_published</td>\n",
       "      <td>post</td>\n",
       "      <td>entry</td>\n",
       "      <td>136792</td>\n",
       "      <td>yes</td>\n",
       "      <td>project</td>\n",
       "      <td>project</td>\n",
       "      <td>110146</td>\n",
       "    </tr>\n",
       "  </tbody>\n",
       "</table>\n",
       "</div>"
      ],
      "text/plain": [
       "         content_type_name_x parent_content_type_name_x  post_count  \\\n",
       "16445910             project                    project        2144   \n",
       "12802326             project                    project        7285   \n",
       "4944928              project                    project        7285   \n",
       "3187643              project                    project        7285   \n",
       "9254027              project                    project        7285   \n",
       "\n",
       "          topic_count  view_count  watch_count  participants  \\\n",
       "16445910            2        2798         4138          4247   \n",
       "12802326           53       16973        17116         17379   \n",
       "4944928            53       16973        17116         17379   \n",
       "3187643            53       16973        17116         17379   \n",
       "9254027            53       16973        17116         17379   \n",
       "\n",
       "                             title  project_id     categories  \\\n",
       "16445910     Unmanned Cargo System         311   Air Mobility   \n",
       "12802326  The Urbanization of Mars         279           Mars   \n",
       "4944928   The Urbanization of Mars         279           Mars   \n",
       "3187643   The Urbanization of Mars         279           Mars   \n",
       "9254027   The Urbanization of Mars         279           Mars   \n",
       "\n",
       "                     action content_type_name_y parent_content_type_name_y  \\\n",
       "16445910  content_published                post                      entry   \n",
       "12802326  content_published                post                      entry   \n",
       "4944928   content_published                post                      entry   \n",
       "3187643   content_published               entry                  challenge   \n",
       "9254027   content_published                post                      entry   \n",
       "\n",
       "          user_id_x watch content_type_name parent_content_type_name  \\\n",
       "16445910      68711   yes           project                  project   \n",
       "12802326     210162   yes           project                  project   \n",
       "4944928       68711   yes           project                  project   \n",
       "3187643      113729   yes           project                  project   \n",
       "9254027      136792   yes           project                  project   \n",
       "\n",
       "          user_id_y  \n",
       "16445910     207319  \n",
       "12802326     109868  \n",
       "4944928      165783  \n",
       "3187643      164571  \n",
       "9254027      110146  "
      ]
     },
     "execution_count": 74,
     "metadata": {},
     "output_type": "execute_result"
    }
   ],
   "source": [
    "content_sample.head()"
   ]
  },
  {
   "cell_type": "markdown",
   "metadata": {},
   "source": [
    "## Column clean up\n",
    "Review the columns, drop the uneeded duplicates and rename columns as neeeded"
   ]
  },
  {
   "cell_type": "code",
   "execution_count": 84,
   "metadata": {},
   "outputs": [
    {
     "data": {
      "text/plain": [
       "1"
      ]
     },
     "execution_count": 84,
     "metadata": {},
     "output_type": "execute_result"
    }
   ],
   "source": [
    "content_sample.loc[:,'content_type_name_x'].nunique()"
   ]
  },
  {
   "cell_type": "code",
   "execution_count": 85,
   "metadata": {},
   "outputs": [
    {
     "data": {
      "text/plain": [
       "1"
      ]
     },
     "execution_count": 85,
     "metadata": {},
     "output_type": "execute_result"
    }
   ],
   "source": [
    "content_sample.loc[:,'parent_content_type_name_x'].nunique()"
   ]
  },
  {
   "cell_type": "code",
   "execution_count": 86,
   "metadata": {},
   "outputs": [
    {
     "data": {
      "text/plain": [
       "10"
      ]
     },
     "execution_count": 86,
     "metadata": {},
     "output_type": "execute_result"
    }
   ],
   "source": [
    "content_sample.loc[:,'categories'].nunique()"
   ]
  },
  {
   "cell_type": "code",
   "execution_count": 87,
   "metadata": {},
   "outputs": [
    {
     "data": {
      "text/plain": [
       "5"
      ]
     },
     "execution_count": 87,
     "metadata": {},
     "output_type": "execute_result"
    }
   ],
   "source": [
    "content_sample.loc[:,'parent_content_type_name_y'].nunique()"
   ]
  },
  {
   "cell_type": "code",
   "execution_count": 88,
   "metadata": {},
   "outputs": [
    {
     "data": {
      "text/plain": [
       "array(['entry', 'challenge', 'topic', 'idea', 'brainstorm'], dtype=object)"
      ]
     },
     "execution_count": 88,
     "metadata": {},
     "output_type": "execute_result"
    }
   ],
   "source": [
    "content_sample.loc[:,'parent_content_type_name_y'].unique()"
   ]
  },
  {
   "cell_type": "code",
   "execution_count": 89,
   "metadata": {},
   "outputs": [
    {
     "data": {
      "text/plain": [
       "1"
      ]
     },
     "execution_count": 89,
     "metadata": {},
     "output_type": "execute_result"
    }
   ],
   "source": [
    "content_sample.loc[:,'parent_content_type_name'].nunique()"
   ]
  },
  {
   "cell_type": "code",
   "execution_count": 90,
   "metadata": {},
   "outputs": [
    {
     "data": {
      "text/plain": [
       "1"
      ]
     },
     "execution_count": 90,
     "metadata": {},
     "output_type": "execute_result"
    }
   ],
   "source": [
    "content_sample.loc[:,'content_type_name'].nunique()"
   ]
  },
  {
   "cell_type": "code",
   "execution_count": 91,
   "metadata": {},
   "outputs": [
    {
     "data": {
      "text/plain": [
       "2917"
      ]
     },
     "execution_count": 91,
     "metadata": {},
     "output_type": "execute_result"
    }
   ],
   "source": [
    "content_sample.loc[:,'user_id_x'].nunique()"
   ]
  },
  {
   "cell_type": "code",
   "execution_count": 92,
   "metadata": {},
   "outputs": [
    {
     "data": {
      "text/plain": [
       "3449"
      ]
     },
     "execution_count": 92,
     "metadata": {},
     "output_type": "execute_result"
    }
   ],
   "source": [
    "content_sample.loc[:,'user_id_y'].nunique()"
   ]
  },
  {
   "cell_type": "code",
   "execution_count": 95,
   "metadata": {},
   "outputs": [],
   "source": [
    "content_sample.drop(['content_type_name_x', 'parent_content_type_name_x', 'parent_content_type_name', 'content_type_name', 'user_id_x'], axis=1, inplace=True)"
   ]
  },
  {
   "cell_type": "code",
   "execution_count": 96,
   "metadata": {},
   "outputs": [
    {
     "data": {
      "text/html": [
       "<div>\n",
       "<style scoped>\n",
       "    .dataframe tbody tr th:only-of-type {\n",
       "        vertical-align: middle;\n",
       "    }\n",
       "\n",
       "    .dataframe tbody tr th {\n",
       "        vertical-align: top;\n",
       "    }\n",
       "\n",
       "    .dataframe thead th {\n",
       "        text-align: right;\n",
       "    }\n",
       "</style>\n",
       "<table border=\"1\" class=\"dataframe\">\n",
       "  <thead>\n",
       "    <tr style=\"text-align: right;\">\n",
       "      <th></th>\n",
       "      <th>post_count</th>\n",
       "      <th>topic_count</th>\n",
       "      <th>view_count</th>\n",
       "      <th>watch_count</th>\n",
       "      <th>participants</th>\n",
       "      <th>title</th>\n",
       "      <th>project_id</th>\n",
       "      <th>categories</th>\n",
       "      <th>action</th>\n",
       "      <th>content_type_name_y</th>\n",
       "      <th>parent_content_type_name_y</th>\n",
       "      <th>watch</th>\n",
       "      <th>user_id_y</th>\n",
       "    </tr>\n",
       "  </thead>\n",
       "  <tbody>\n",
       "    <tr>\n",
       "      <th>16445910</th>\n",
       "      <td>2144</td>\n",
       "      <td>2</td>\n",
       "      <td>2798</td>\n",
       "      <td>4138</td>\n",
       "      <td>4247</td>\n",
       "      <td>Unmanned Cargo System</td>\n",
       "      <td>311</td>\n",
       "      <td>Air Mobility</td>\n",
       "      <td>content_published</td>\n",
       "      <td>post</td>\n",
       "      <td>entry</td>\n",
       "      <td>yes</td>\n",
       "      <td>207319</td>\n",
       "    </tr>\n",
       "    <tr>\n",
       "      <th>12802326</th>\n",
       "      <td>7285</td>\n",
       "      <td>53</td>\n",
       "      <td>16973</td>\n",
       "      <td>17116</td>\n",
       "      <td>17379</td>\n",
       "      <td>The Urbanization of Mars</td>\n",
       "      <td>279</td>\n",
       "      <td>Mars</td>\n",
       "      <td>content_published</td>\n",
       "      <td>post</td>\n",
       "      <td>entry</td>\n",
       "      <td>yes</td>\n",
       "      <td>109868</td>\n",
       "    </tr>\n",
       "    <tr>\n",
       "      <th>4944928</th>\n",
       "      <td>7285</td>\n",
       "      <td>53</td>\n",
       "      <td>16973</td>\n",
       "      <td>17116</td>\n",
       "      <td>17379</td>\n",
       "      <td>The Urbanization of Mars</td>\n",
       "      <td>279</td>\n",
       "      <td>Mars</td>\n",
       "      <td>content_published</td>\n",
       "      <td>post</td>\n",
       "      <td>entry</td>\n",
       "      <td>yes</td>\n",
       "      <td>165783</td>\n",
       "    </tr>\n",
       "    <tr>\n",
       "      <th>3187643</th>\n",
       "      <td>7285</td>\n",
       "      <td>53</td>\n",
       "      <td>16973</td>\n",
       "      <td>17116</td>\n",
       "      <td>17379</td>\n",
       "      <td>The Urbanization of Mars</td>\n",
       "      <td>279</td>\n",
       "      <td>Mars</td>\n",
       "      <td>content_published</td>\n",
       "      <td>entry</td>\n",
       "      <td>challenge</td>\n",
       "      <td>yes</td>\n",
       "      <td>164571</td>\n",
       "    </tr>\n",
       "    <tr>\n",
       "      <th>9254027</th>\n",
       "      <td>7285</td>\n",
       "      <td>53</td>\n",
       "      <td>16973</td>\n",
       "      <td>17116</td>\n",
       "      <td>17379</td>\n",
       "      <td>The Urbanization of Mars</td>\n",
       "      <td>279</td>\n",
       "      <td>Mars</td>\n",
       "      <td>content_published</td>\n",
       "      <td>post</td>\n",
       "      <td>entry</td>\n",
       "      <td>yes</td>\n",
       "      <td>110146</td>\n",
       "    </tr>\n",
       "  </tbody>\n",
       "</table>\n",
       "</div>"
      ],
      "text/plain": [
       "          post_count  topic_count  view_count  watch_count  participants  \\\n",
       "16445910        2144            2        2798         4138          4247   \n",
       "12802326        7285           53       16973        17116         17379   \n",
       "4944928         7285           53       16973        17116         17379   \n",
       "3187643         7285           53       16973        17116         17379   \n",
       "9254027         7285           53       16973        17116         17379   \n",
       "\n",
       "                             title  project_id     categories  \\\n",
       "16445910     Unmanned Cargo System         311   Air Mobility   \n",
       "12802326  The Urbanization of Mars         279           Mars   \n",
       "4944928   The Urbanization of Mars         279           Mars   \n",
       "3187643   The Urbanization of Mars         279           Mars   \n",
       "9254027   The Urbanization of Mars         279           Mars   \n",
       "\n",
       "                     action content_type_name_y parent_content_type_name_y  \\\n",
       "16445910  content_published                post                      entry   \n",
       "12802326  content_published                post                      entry   \n",
       "4944928   content_published                post                      entry   \n",
       "3187643   content_published               entry                  challenge   \n",
       "9254027   content_published                post                      entry   \n",
       "\n",
       "         watch  user_id_y  \n",
       "16445910   yes     207319  \n",
       "12802326   yes     109868  \n",
       "4944928    yes     165783  \n",
       "3187643    yes     164571  \n",
       "9254027    yes     110146  "
      ]
     },
     "execution_count": 96,
     "metadata": {},
     "output_type": "execute_result"
    }
   ],
   "source": [
    "content_sample.head()"
   ]
  },
  {
   "cell_type": "code",
   "execution_count": 98,
   "metadata": {},
   "outputs": [],
   "source": [
    "content_sample.rename(columns={'content_type_name_y':'content_type_name', 'parent_content_type_name_y':'parent_content_type_name', 'user_id_y':'user_id'}, inplace=True)"
   ]
  },
  {
   "cell_type": "code",
   "execution_count": 99,
   "metadata": {},
   "outputs": [
    {
     "data": {
      "text/html": [
       "<div>\n",
       "<style scoped>\n",
       "    .dataframe tbody tr th:only-of-type {\n",
       "        vertical-align: middle;\n",
       "    }\n",
       "\n",
       "    .dataframe tbody tr th {\n",
       "        vertical-align: top;\n",
       "    }\n",
       "\n",
       "    .dataframe thead th {\n",
       "        text-align: right;\n",
       "    }\n",
       "</style>\n",
       "<table border=\"1\" class=\"dataframe\">\n",
       "  <thead>\n",
       "    <tr style=\"text-align: right;\">\n",
       "      <th></th>\n",
       "      <th>post_count</th>\n",
       "      <th>topic_count</th>\n",
       "      <th>view_count</th>\n",
       "      <th>watch_count</th>\n",
       "      <th>participants</th>\n",
       "      <th>title</th>\n",
       "      <th>project_id</th>\n",
       "      <th>categories</th>\n",
       "      <th>action</th>\n",
       "      <th>content_type_name</th>\n",
       "      <th>parent_content_type_name</th>\n",
       "      <th>watch</th>\n",
       "      <th>user_id</th>\n",
       "    </tr>\n",
       "  </thead>\n",
       "  <tbody>\n",
       "    <tr>\n",
       "      <th>16445910</th>\n",
       "      <td>2144</td>\n",
       "      <td>2</td>\n",
       "      <td>2798</td>\n",
       "      <td>4138</td>\n",
       "      <td>4247</td>\n",
       "      <td>Unmanned Cargo System</td>\n",
       "      <td>311</td>\n",
       "      <td>Air Mobility</td>\n",
       "      <td>content_published</td>\n",
       "      <td>post</td>\n",
       "      <td>entry</td>\n",
       "      <td>yes</td>\n",
       "      <td>207319</td>\n",
       "    </tr>\n",
       "    <tr>\n",
       "      <th>12802326</th>\n",
       "      <td>7285</td>\n",
       "      <td>53</td>\n",
       "      <td>16973</td>\n",
       "      <td>17116</td>\n",
       "      <td>17379</td>\n",
       "      <td>The Urbanization of Mars</td>\n",
       "      <td>279</td>\n",
       "      <td>Mars</td>\n",
       "      <td>content_published</td>\n",
       "      <td>post</td>\n",
       "      <td>entry</td>\n",
       "      <td>yes</td>\n",
       "      <td>109868</td>\n",
       "    </tr>\n",
       "    <tr>\n",
       "      <th>4944928</th>\n",
       "      <td>7285</td>\n",
       "      <td>53</td>\n",
       "      <td>16973</td>\n",
       "      <td>17116</td>\n",
       "      <td>17379</td>\n",
       "      <td>The Urbanization of Mars</td>\n",
       "      <td>279</td>\n",
       "      <td>Mars</td>\n",
       "      <td>content_published</td>\n",
       "      <td>post</td>\n",
       "      <td>entry</td>\n",
       "      <td>yes</td>\n",
       "      <td>165783</td>\n",
       "    </tr>\n",
       "    <tr>\n",
       "      <th>3187643</th>\n",
       "      <td>7285</td>\n",
       "      <td>53</td>\n",
       "      <td>16973</td>\n",
       "      <td>17116</td>\n",
       "      <td>17379</td>\n",
       "      <td>The Urbanization of Mars</td>\n",
       "      <td>279</td>\n",
       "      <td>Mars</td>\n",
       "      <td>content_published</td>\n",
       "      <td>entry</td>\n",
       "      <td>challenge</td>\n",
       "      <td>yes</td>\n",
       "      <td>164571</td>\n",
       "    </tr>\n",
       "    <tr>\n",
       "      <th>9254027</th>\n",
       "      <td>7285</td>\n",
       "      <td>53</td>\n",
       "      <td>16973</td>\n",
       "      <td>17116</td>\n",
       "      <td>17379</td>\n",
       "      <td>The Urbanization of Mars</td>\n",
       "      <td>279</td>\n",
       "      <td>Mars</td>\n",
       "      <td>content_published</td>\n",
       "      <td>post</td>\n",
       "      <td>entry</td>\n",
       "      <td>yes</td>\n",
       "      <td>110146</td>\n",
       "    </tr>\n",
       "  </tbody>\n",
       "</table>\n",
       "</div>"
      ],
      "text/plain": [
       "          post_count  topic_count  view_count  watch_count  participants  \\\n",
       "16445910        2144            2        2798         4138          4247   \n",
       "12802326        7285           53       16973        17116         17379   \n",
       "4944928         7285           53       16973        17116         17379   \n",
       "3187643         7285           53       16973        17116         17379   \n",
       "9254027         7285           53       16973        17116         17379   \n",
       "\n",
       "                             title  project_id     categories  \\\n",
       "16445910     Unmanned Cargo System         311   Air Mobility   \n",
       "12802326  The Urbanization of Mars         279           Mars   \n",
       "4944928   The Urbanization of Mars         279           Mars   \n",
       "3187643   The Urbanization of Mars         279           Mars   \n",
       "9254027   The Urbanization of Mars         279           Mars   \n",
       "\n",
       "                     action content_type_name parent_content_type_name watch  \\\n",
       "16445910  content_published              post                    entry   yes   \n",
       "12802326  content_published              post                    entry   yes   \n",
       "4944928   content_published              post                    entry   yes   \n",
       "3187643   content_published             entry                challenge   yes   \n",
       "9254027   content_published              post                    entry   yes   \n",
       "\n",
       "          user_id  \n",
       "16445910   207319  \n",
       "12802326   109868  \n",
       "4944928    165783  \n",
       "3187643    164571  \n",
       "9254027    110146  "
      ]
     },
     "execution_count": 99,
     "metadata": {},
     "output_type": "execute_result"
    }
   ],
   "source": [
    "content_sample.head()"
   ]
  },
  {
   "cell_type": "code",
   "execution_count": 112,
   "metadata": {},
   "outputs": [],
   "source": [
    "content_sample.rename(columns = {'post_count':'total_post_count', 'topic_count':'total_topic_count', 'view_count':'total_view_count','watch_count':'total_watch_count', 'participants':'total_participants'}, inplace=True)"
   ]
  },
  {
   "cell_type": "code",
   "execution_count": 113,
   "metadata": {},
   "outputs": [
    {
     "data": {
      "text/html": [
       "<div>\n",
       "<style scoped>\n",
       "    .dataframe tbody tr th:only-of-type {\n",
       "        vertical-align: middle;\n",
       "    }\n",
       "\n",
       "    .dataframe tbody tr th {\n",
       "        vertical-align: top;\n",
       "    }\n",
       "\n",
       "    .dataframe thead th {\n",
       "        text-align: right;\n",
       "    }\n",
       "</style>\n",
       "<table border=\"1\" class=\"dataframe\">\n",
       "  <thead>\n",
       "    <tr style=\"text-align: right;\">\n",
       "      <th></th>\n",
       "      <th>total_post_count</th>\n",
       "      <th>total_topic_count</th>\n",
       "      <th>total_view_count</th>\n",
       "      <th>total_watch_count</th>\n",
       "      <th>total_participants</th>\n",
       "      <th>title</th>\n",
       "      <th>project_id</th>\n",
       "      <th>categories</th>\n",
       "      <th>action</th>\n",
       "      <th>content_type_name</th>\n",
       "      <th>parent_content_type_name</th>\n",
       "      <th>watch</th>\n",
       "      <th>user_id</th>\n",
       "    </tr>\n",
       "  </thead>\n",
       "  <tbody>\n",
       "    <tr>\n",
       "      <th>16445910</th>\n",
       "      <td>2144</td>\n",
       "      <td>2</td>\n",
       "      <td>2798</td>\n",
       "      <td>4138</td>\n",
       "      <td>4247</td>\n",
       "      <td>Unmanned Cargo System</td>\n",
       "      <td>311</td>\n",
       "      <td>Air Mobility</td>\n",
       "      <td>content_published</td>\n",
       "      <td>post</td>\n",
       "      <td>entry</td>\n",
       "      <td>yes</td>\n",
       "      <td>207319</td>\n",
       "    </tr>\n",
       "    <tr>\n",
       "      <th>12802326</th>\n",
       "      <td>7285</td>\n",
       "      <td>53</td>\n",
       "      <td>16973</td>\n",
       "      <td>17116</td>\n",
       "      <td>17379</td>\n",
       "      <td>The Urbanization of Mars</td>\n",
       "      <td>279</td>\n",
       "      <td>Mars</td>\n",
       "      <td>content_published</td>\n",
       "      <td>post</td>\n",
       "      <td>entry</td>\n",
       "      <td>yes</td>\n",
       "      <td>109868</td>\n",
       "    </tr>\n",
       "    <tr>\n",
       "      <th>4944928</th>\n",
       "      <td>7285</td>\n",
       "      <td>53</td>\n",
       "      <td>16973</td>\n",
       "      <td>17116</td>\n",
       "      <td>17379</td>\n",
       "      <td>The Urbanization of Mars</td>\n",
       "      <td>279</td>\n",
       "      <td>Mars</td>\n",
       "      <td>content_published</td>\n",
       "      <td>post</td>\n",
       "      <td>entry</td>\n",
       "      <td>yes</td>\n",
       "      <td>165783</td>\n",
       "    </tr>\n",
       "    <tr>\n",
       "      <th>3187643</th>\n",
       "      <td>7285</td>\n",
       "      <td>53</td>\n",
       "      <td>16973</td>\n",
       "      <td>17116</td>\n",
       "      <td>17379</td>\n",
       "      <td>The Urbanization of Mars</td>\n",
       "      <td>279</td>\n",
       "      <td>Mars</td>\n",
       "      <td>content_published</td>\n",
       "      <td>entry</td>\n",
       "      <td>challenge</td>\n",
       "      <td>yes</td>\n",
       "      <td>164571</td>\n",
       "    </tr>\n",
       "    <tr>\n",
       "      <th>9254027</th>\n",
       "      <td>7285</td>\n",
       "      <td>53</td>\n",
       "      <td>16973</td>\n",
       "      <td>17116</td>\n",
       "      <td>17379</td>\n",
       "      <td>The Urbanization of Mars</td>\n",
       "      <td>279</td>\n",
       "      <td>Mars</td>\n",
       "      <td>content_published</td>\n",
       "      <td>post</td>\n",
       "      <td>entry</td>\n",
       "      <td>yes</td>\n",
       "      <td>110146</td>\n",
       "    </tr>\n",
       "  </tbody>\n",
       "</table>\n",
       "</div>"
      ],
      "text/plain": [
       "          total_post_count  total_topic_count  total_view_count  \\\n",
       "16445910              2144                  2              2798   \n",
       "12802326              7285                 53             16973   \n",
       "4944928               7285                 53             16973   \n",
       "3187643               7285                 53             16973   \n",
       "9254027               7285                 53             16973   \n",
       "\n",
       "          total_watch_count  total_participants                     title  \\\n",
       "16445910               4138                4247     Unmanned Cargo System   \n",
       "12802326              17116               17379  The Urbanization of Mars   \n",
       "4944928               17116               17379  The Urbanization of Mars   \n",
       "3187643               17116               17379  The Urbanization of Mars   \n",
       "9254027               17116               17379  The Urbanization of Mars   \n",
       "\n",
       "          project_id     categories             action content_type_name  \\\n",
       "16445910         311   Air Mobility  content_published              post   \n",
       "12802326         279           Mars  content_published              post   \n",
       "4944928          279           Mars  content_published              post   \n",
       "3187643          279           Mars  content_published             entry   \n",
       "9254027          279           Mars  content_published              post   \n",
       "\n",
       "         parent_content_type_name watch  user_id  \n",
       "16445910                    entry   yes   207319  \n",
       "12802326                    entry   yes   109868  \n",
       "4944928                     entry   yes   165783  \n",
       "3187643                 challenge   yes   164571  \n",
       "9254027                     entry   yes   110146  "
      ]
     },
     "execution_count": 113,
     "metadata": {},
     "output_type": "execute_result"
    }
   ],
   "source": [
    "content_sample.head()"
   ]
  },
  {
   "cell_type": "code",
   "execution_count": 114,
   "metadata": {},
   "outputs": [],
   "source": [
    "project_content = content_sample"
   ]
  },
  {
   "cell_type": "code",
   "execution_count": 115,
   "metadata": {},
   "outputs": [
    {
     "data": {
      "text/html": [
       "<div>\n",
       "<style scoped>\n",
       "    .dataframe tbody tr th:only-of-type {\n",
       "        vertical-align: middle;\n",
       "    }\n",
       "\n",
       "    .dataframe tbody tr th {\n",
       "        vertical-align: top;\n",
       "    }\n",
       "\n",
       "    .dataframe thead th {\n",
       "        text-align: right;\n",
       "    }\n",
       "</style>\n",
       "<table border=\"1\" class=\"dataframe\">\n",
       "  <thead>\n",
       "    <tr style=\"text-align: right;\">\n",
       "      <th></th>\n",
       "      <th>total_post_count</th>\n",
       "      <th>total_topic_count</th>\n",
       "      <th>total_view_count</th>\n",
       "      <th>total_watch_count</th>\n",
       "      <th>total_participants</th>\n",
       "      <th>title</th>\n",
       "      <th>project_id</th>\n",
       "      <th>categories</th>\n",
       "      <th>action</th>\n",
       "      <th>content_type_name</th>\n",
       "      <th>parent_content_type_name</th>\n",
       "      <th>watch</th>\n",
       "      <th>user_id</th>\n",
       "    </tr>\n",
       "  </thead>\n",
       "  <tbody>\n",
       "    <tr>\n",
       "      <th>16445910</th>\n",
       "      <td>2144</td>\n",
       "      <td>2</td>\n",
       "      <td>2798</td>\n",
       "      <td>4138</td>\n",
       "      <td>4247</td>\n",
       "      <td>Unmanned Cargo System</td>\n",
       "      <td>311</td>\n",
       "      <td>Air Mobility</td>\n",
       "      <td>content_published</td>\n",
       "      <td>post</td>\n",
       "      <td>entry</td>\n",
       "      <td>yes</td>\n",
       "      <td>207319</td>\n",
       "    </tr>\n",
       "    <tr>\n",
       "      <th>12802326</th>\n",
       "      <td>7285</td>\n",
       "      <td>53</td>\n",
       "      <td>16973</td>\n",
       "      <td>17116</td>\n",
       "      <td>17379</td>\n",
       "      <td>The Urbanization of Mars</td>\n",
       "      <td>279</td>\n",
       "      <td>Mars</td>\n",
       "      <td>content_published</td>\n",
       "      <td>post</td>\n",
       "      <td>entry</td>\n",
       "      <td>yes</td>\n",
       "      <td>109868</td>\n",
       "    </tr>\n",
       "    <tr>\n",
       "      <th>4944928</th>\n",
       "      <td>7285</td>\n",
       "      <td>53</td>\n",
       "      <td>16973</td>\n",
       "      <td>17116</td>\n",
       "      <td>17379</td>\n",
       "      <td>The Urbanization of Mars</td>\n",
       "      <td>279</td>\n",
       "      <td>Mars</td>\n",
       "      <td>content_published</td>\n",
       "      <td>post</td>\n",
       "      <td>entry</td>\n",
       "      <td>yes</td>\n",
       "      <td>165783</td>\n",
       "    </tr>\n",
       "    <tr>\n",
       "      <th>3187643</th>\n",
       "      <td>7285</td>\n",
       "      <td>53</td>\n",
       "      <td>16973</td>\n",
       "      <td>17116</td>\n",
       "      <td>17379</td>\n",
       "      <td>The Urbanization of Mars</td>\n",
       "      <td>279</td>\n",
       "      <td>Mars</td>\n",
       "      <td>content_published</td>\n",
       "      <td>entry</td>\n",
       "      <td>challenge</td>\n",
       "      <td>yes</td>\n",
       "      <td>164571</td>\n",
       "    </tr>\n",
       "    <tr>\n",
       "      <th>9254027</th>\n",
       "      <td>7285</td>\n",
       "      <td>53</td>\n",
       "      <td>16973</td>\n",
       "      <td>17116</td>\n",
       "      <td>17379</td>\n",
       "      <td>The Urbanization of Mars</td>\n",
       "      <td>279</td>\n",
       "      <td>Mars</td>\n",
       "      <td>content_published</td>\n",
       "      <td>post</td>\n",
       "      <td>entry</td>\n",
       "      <td>yes</td>\n",
       "      <td>110146</td>\n",
       "    </tr>\n",
       "  </tbody>\n",
       "</table>\n",
       "</div>"
      ],
      "text/plain": [
       "          total_post_count  total_topic_count  total_view_count  \\\n",
       "16445910              2144                  2              2798   \n",
       "12802326              7285                 53             16973   \n",
       "4944928               7285                 53             16973   \n",
       "3187643               7285                 53             16973   \n",
       "9254027               7285                 53             16973   \n",
       "\n",
       "          total_watch_count  total_participants                     title  \\\n",
       "16445910               4138                4247     Unmanned Cargo System   \n",
       "12802326              17116               17379  The Urbanization of Mars   \n",
       "4944928               17116               17379  The Urbanization of Mars   \n",
       "3187643               17116               17379  The Urbanization of Mars   \n",
       "9254027               17116               17379  The Urbanization of Mars   \n",
       "\n",
       "          project_id     categories             action content_type_name  \\\n",
       "16445910         311   Air Mobility  content_published              post   \n",
       "12802326         279           Mars  content_published              post   \n",
       "4944928          279           Mars  content_published              post   \n",
       "3187643          279           Mars  content_published             entry   \n",
       "9254027          279           Mars  content_published              post   \n",
       "\n",
       "         parent_content_type_name watch  user_id  \n",
       "16445910                    entry   yes   207319  \n",
       "12802326                    entry   yes   109868  \n",
       "4944928                     entry   yes   165783  \n",
       "3187643                 challenge   yes   164571  \n",
       "9254027                     entry   yes   110146  "
      ]
     },
     "execution_count": 115,
     "metadata": {},
     "output_type": "execute_result"
    }
   ],
   "source": [
    "project_content.head()"
   ]
  },
  {
   "cell_type": "markdown",
   "metadata": {},
   "source": [
    "## Exploratory Data Analysis"
   ]
  },
  {
   "cell_type": "markdown",
   "metadata": {},
   "source": [
    "#### Data shape"
   ]
  },
  {
   "cell_type": "code",
   "execution_count": 116,
   "metadata": {},
   "outputs": [
    {
     "data": {
      "text/plain": [
       "(167157, 13)"
      ]
     },
     "execution_count": 116,
     "metadata": {},
     "output_type": "execute_result"
    }
   ],
   "source": [
    "project_content.shape"
   ]
  },
  {
   "cell_type": "markdown",
   "metadata": {},
   "source": [
    "#### Data types\n",
    "All data types look correct"
   ]
  },
  {
   "cell_type": "code",
   "execution_count": 117,
   "metadata": {},
   "outputs": [
    {
     "data": {
      "text/plain": [
       "total_post_count             int64\n",
       "total_topic_count            int64\n",
       "total_view_count             int64\n",
       "total_watch_count            int64\n",
       "total_participants           int64\n",
       "title                       object\n",
       "project_id                   int64\n",
       "categories                  object\n",
       "action                      object\n",
       "content_type_name           object\n",
       "parent_content_type_name    object\n",
       "watch                       object\n",
       "user_id                      int64\n",
       "dtype: object"
      ]
     },
     "execution_count": 117,
     "metadata": {},
     "output_type": "execute_result"
    }
   ],
   "source": [
    "project_content.dtypes"
   ]
  },
  {
   "cell_type": "markdown",
   "metadata": {},
   "source": [
    "#### Count of null values\n",
    "All null values were gotten rid of prior to pulling into the notebook and merging the datasets, however you can see above some of the other clean up that happened."
   ]
  },
  {
   "cell_type": "code",
   "execution_count": 118,
   "metadata": {},
   "outputs": [
    {
     "data": {
      "text/plain": [
       "total_post_count            0\n",
       "total_topic_count           0\n",
       "total_view_count            0\n",
       "total_watch_count           0\n",
       "total_participants          0\n",
       "title                       0\n",
       "project_id                  0\n",
       "categories                  0\n",
       "action                      0\n",
       "content_type_name           0\n",
       "parent_content_type_name    0\n",
       "watch                       0\n",
       "user_id                     0\n",
       "dtype: int64"
      ]
     },
     "execution_count": 118,
     "metadata": {},
     "output_type": "execute_result"
    }
   ],
   "source": [
    "project_content.isnull().sum()"
   ]
  },
  {
   "cell_type": "markdown",
   "metadata": {},
   "source": [
    "#### Basic Summary Statistics\n",
    "Because of the kind of data this is, ie project totals and ids these numbers really don't mean anything"
   ]
  },
  {
   "cell_type": "code",
   "execution_count": 121,
   "metadata": {},
   "outputs": [
    {
     "data": {
      "text/html": [
       "<div>\n",
       "<style scoped>\n",
       "    .dataframe tbody tr th:only-of-type {\n",
       "        vertical-align: middle;\n",
       "    }\n",
       "\n",
       "    .dataframe tbody tr th {\n",
       "        vertical-align: top;\n",
       "    }\n",
       "\n",
       "    .dataframe thead th {\n",
       "        text-align: right;\n",
       "    }\n",
       "</style>\n",
       "<table border=\"1\" class=\"dataframe\">\n",
       "  <thead>\n",
       "    <tr style=\"text-align: right;\">\n",
       "      <th></th>\n",
       "      <th>total_post_count</th>\n",
       "      <th>total_topic_count</th>\n",
       "      <th>total_view_count</th>\n",
       "      <th>total_watch_count</th>\n",
       "      <th>total_participants</th>\n",
       "      <th>project_id</th>\n",
       "      <th>user_id</th>\n",
       "    </tr>\n",
       "  </thead>\n",
       "  <tbody>\n",
       "    <tr>\n",
       "      <th>count</th>\n",
       "      <td>167157.000000</td>\n",
       "      <td>167157.000000</td>\n",
       "      <td>167157.000000</td>\n",
       "      <td>167157.000000</td>\n",
       "      <td>167157.000000</td>\n",
       "      <td>167157.000000</td>\n",
       "      <td>167157.000000</td>\n",
       "    </tr>\n",
       "    <tr>\n",
       "      <th>mean</th>\n",
       "      <td>5820.848448</td>\n",
       "      <td>40.582315</td>\n",
       "      <td>21913.717966</td>\n",
       "      <td>13516.928786</td>\n",
       "      <td>13733.402580</td>\n",
       "      <td>282.601841</td>\n",
       "      <td>145544.790879</td>\n",
       "    </tr>\n",
       "    <tr>\n",
       "      <th>std</th>\n",
       "      <td>2527.619226</td>\n",
       "      <td>21.108870</td>\n",
       "      <td>28119.018200</td>\n",
       "      <td>6116.897063</td>\n",
       "      <td>6195.884484</td>\n",
       "      <td>13.990101</td>\n",
       "      <td>38676.009915</td>\n",
       "    </tr>\n",
       "    <tr>\n",
       "      <th>min</th>\n",
       "      <td>1.000000</td>\n",
       "      <td>1.000000</td>\n",
       "      <td>496.000000</td>\n",
       "      <td>21.000000</td>\n",
       "      <td>21.000000</td>\n",
       "      <td>136.000000</td>\n",
       "      <td>1.000000</td>\n",
       "    </tr>\n",
       "    <tr>\n",
       "      <th>25%</th>\n",
       "      <td>2665.000000</td>\n",
       "      <td>19.000000</td>\n",
       "      <td>16973.000000</td>\n",
       "      <td>4485.000000</td>\n",
       "      <td>4599.000000</td>\n",
       "      <td>279.000000</td>\n",
       "      <td>116136.000000</td>\n",
       "    </tr>\n",
       "    <tr>\n",
       "      <th>50%</th>\n",
       "      <td>7285.000000</td>\n",
       "      <td>53.000000</td>\n",
       "      <td>16973.000000</td>\n",
       "      <td>17116.000000</td>\n",
       "      <td>17379.000000</td>\n",
       "      <td>279.000000</td>\n",
       "      <td>149125.000000</td>\n",
       "    </tr>\n",
       "    <tr>\n",
       "      <th>75%</th>\n",
       "      <td>7285.000000</td>\n",
       "      <td>53.000000</td>\n",
       "      <td>16973.000000</td>\n",
       "      <td>17116.000000</td>\n",
       "      <td>17379.000000</td>\n",
       "      <td>279.000000</td>\n",
       "      <td>173626.000000</td>\n",
       "    </tr>\n",
       "    <tr>\n",
       "      <th>max</th>\n",
       "      <td>10980.000000</td>\n",
       "      <td>53.000000</td>\n",
       "      <td>125156.000000</td>\n",
       "      <td>17116.000000</td>\n",
       "      <td>17379.000000</td>\n",
       "      <td>322.000000</td>\n",
       "      <td>211638.000000</td>\n",
       "    </tr>\n",
       "  </tbody>\n",
       "</table>\n",
       "</div>"
      ],
      "text/plain": [
       "       total_post_count  total_topic_count  total_view_count  \\\n",
       "count     167157.000000      167157.000000     167157.000000   \n",
       "mean        5820.848448          40.582315      21913.717966   \n",
       "std         2527.619226          21.108870      28119.018200   \n",
       "min            1.000000           1.000000        496.000000   \n",
       "25%         2665.000000          19.000000      16973.000000   \n",
       "50%         7285.000000          53.000000      16973.000000   \n",
       "75%         7285.000000          53.000000      16973.000000   \n",
       "max        10980.000000          53.000000     125156.000000   \n",
       "\n",
       "       total_watch_count  total_participants     project_id        user_id  \n",
       "count      167157.000000       167157.000000  167157.000000  167157.000000  \n",
       "mean        13516.928786        13733.402580     282.601841  145544.790879  \n",
       "std          6116.897063         6195.884484      13.990101   38676.009915  \n",
       "min            21.000000           21.000000     136.000000       1.000000  \n",
       "25%          4485.000000         4599.000000     279.000000  116136.000000  \n",
       "50%         17116.000000        17379.000000     279.000000  149125.000000  \n",
       "75%         17116.000000        17379.000000     279.000000  173626.000000  \n",
       "max         17116.000000        17379.000000     322.000000  211638.000000  "
      ]
     },
     "execution_count": 121,
     "metadata": {},
     "output_type": "execute_result"
    }
   ],
   "source": [
    "project_content.describe()"
   ]
  },
  {
   "cell_type": "markdown",
   "metadata": {},
   "source": [
    "#### Number of unique values for each column"
   ]
  },
  {
   "cell_type": "code",
   "execution_count": 122,
   "metadata": {},
   "outputs": [
    {
     "data": {
      "text/plain": [
       "total_post_count              32\n",
       "total_topic_count             17\n",
       "total_view_count              32\n",
       "total_watch_count             31\n",
       "total_participants            32\n",
       "title                         32\n",
       "project_id                    32\n",
       "categories                    10\n",
       "action                         2\n",
       "content_type_name              3\n",
       "parent_content_type_name       5\n",
       "watch                          1\n",
       "user_id                     3449\n",
       "dtype: int64"
      ]
     },
     "execution_count": 122,
     "metadata": {},
     "output_type": "execute_result"
    }
   ],
   "source": [
    "project_content.nunique()"
   ]
  },
  {
   "cell_type": "markdown",
   "metadata": {},
   "source": [
    "#### Plot the distribution of each column\n",
    "Same as with the summary statistics, looking at the distribution doesn't tell me much because of the kind of data in the dataframe"
   ]
  },
  {
   "cell_type": "code",
   "execution_count": null,
   "metadata": {},
   "outputs": [],
   "source": [
    "ax = project_content.plot(kind='box', figsize=(12,12))"
   ]
  },
  {
   "cell_type": "markdown",
   "metadata": {},
   "source": [
    "#### Scatterplot of each column with category\n",
    "Since I am trying to predict whether the category a project is in determines amount of engagement this is an import feature to compare against the other features"
   ]
  },
  {
   "cell_type": "code",
   "execution_count": null,
   "metadata": {},
   "outputs": [],
   "source": [
    "columns = ['total_post_count', 'total_topic_count', 'total_view_count', 'total_watch_count', 'total_participants', 'action', 'content_type_name', 'parent_content_type_name']\n",
    "\n",
    "for x in columns:\n",
    "    ax = project_content.plot(kind='scatter', x=x, y='categories')"
   ]
  },
  {
   "cell_type": "markdown",
   "metadata": {},
   "source": [
    "#### Create a scatterplot matrix"
   ]
  },
  {
   "cell_type": "code",
   "execution_count": null,
   "metadata": {},
   "outputs": [],
   "source": []
  }
 ],
 "metadata": {
  "kernelspec": {
   "display_name": "Python 3",
   "language": "python",
   "name": "python3"
  },
  "language_info": {
   "codemirror_mode": {
    "name": "ipython",
    "version": 3
   },
   "file_extension": ".py",
   "mimetype": "text/x-python",
   "name": "python",
   "nbconvert_exporter": "python",
   "pygments_lexer": "ipython3",
   "version": "3.6.5"
  }
 },
 "nbformat": 4,
 "nbformat_minor": 2
}
